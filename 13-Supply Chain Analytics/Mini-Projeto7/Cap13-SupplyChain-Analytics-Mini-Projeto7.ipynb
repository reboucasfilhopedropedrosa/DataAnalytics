{
 "cells": [
  {
   "cell_type": "markdown",
   "metadata": {},
   "source": [
    "# <font color='blue'>Business Analytics</font>\n",
    "\n",
    "# <font color='blue'>Capítulo 13 - Supply Chain Analytics</font>\n",
    "## <font color='blue'>Mini-Projeto 7</font>\n",
    "### <font color='blue'>Previsão de Demanda de Pedidos com Multioutput Regression Analysis</font>"
   ]
  },
  {
   "cell_type": "markdown",
   "metadata": {},
   "source": [
    "![title](imagens/mini-projeto7.png)"
   ]
  },
  {
   "cell_type": "markdown",
   "metadata": {},
   "source": [
    "## Definição do Problema\n",
    "\n",
    "Leia o manual em pdf no Capítulo 13 do curso."
   ]
  },
  {
   "cell_type": "markdown",
   "metadata": {},
   "source": [
    "## Fonte de Dados\n",
    "\n",
    "Leia o manual em pdf no Capítulo 13 do curso."
   ]
  },
  {
   "cell_type": "markdown",
   "metadata": {},
   "source": [
    "## Compreendendo o Que é Multioutput Regression Analysis"
   ]
  },
  {
   "cell_type": "markdown",
   "metadata": {},
   "source": [
    "![title](imagens/reg.png)"
   ]
  },
  {
   "cell_type": "markdown",
   "metadata": {},
   "source": [
    "![title](imagens/table.png)"
   ]
  },
  {
   "cell_type": "markdown",
   "metadata": {},
   "source": [
    "## Instalando e Carregando os Pacotes"
   ]
  },
  {
   "cell_type": "code",
   "execution_count": 1,
   "metadata": {},
   "outputs": [
    {
     "name": "stdout",
     "output_type": "stream",
     "text": [
      "Versão da Linguagem Python Usada Neste Jupyter Notebook: 3.9.13\n"
     ]
    }
   ],
   "source": [
    "# Versão da Linguagem Python\n",
    "from platform import python_version\n",
    "print('Versão da Linguagem Python Usada Neste Jupyter Notebook:', python_version())"
   ]
  },
  {
   "cell_type": "code",
   "execution_count": 2,
   "metadata": {},
   "outputs": [],
   "source": [
    "# Para atualizar um pacote, execute o comando abaixo no terminal ou prompt de comando:\n",
    "# pip install -U nome_pacote\n",
    "\n",
    "# Para instalar a versão exata de um pacote, execute o comando abaixo no terminal ou prompt de comando:\n",
    "# !pip install nome_pacote==versão_desejada\n",
    "\n",
    "# Depois de instalar ou atualizar o pacote, reinicie o jupyter notebook.\n",
    "\n",
    "# Instala o pacote watermark. \n",
    "# Esse pacote é usado para gravar as versões de outros pacotes usados neste jupyter notebook.\n",
    "!pip install -q -U watermark"
   ]
  },
  {
   "cell_type": "code",
   "execution_count": 3,
   "metadata": {},
   "outputs": [],
   "source": [
    "# Imports\n",
    "import pandas as pd\n",
    "import numpy as np\n",
    "import matplotlib.pyplot as plt\n",
    "from sklearn import linear_model\n",
    "from sklearn.model_selection import train_test_split\n",
    "from sklearn import metrics \n",
    "from sklearn import preprocessing"
   ]
  },
  {
   "cell_type": "code",
   "execution_count": 4,
   "metadata": {},
   "outputs": [
    {
     "name": "stdout",
     "output_type": "stream",
     "text": [
      "Author: Versions\n",
      "\n",
      "numpy     : 1.21.5\n",
      "sklearn   : 1.0.2\n",
      "pandas    : 1.4.4\n",
      "matplotlib: 3.5.2\n",
      "\n"
     ]
    }
   ],
   "source": [
    "# Versões dos pacotes usados neste jupyter notebook\n",
    "%reload_ext watermark\n",
    "%watermark -a \"Versions\" --iversions"
   ]
  },
  {
   "cell_type": "markdown",
   "metadata": {},
   "source": [
    "## Tarefa 1 - Single Output Regression Analysis"
   ]
  },
  {
   "cell_type": "markdown",
   "metadata": {},
   "source": [
    "### Carregando os Dados"
   ]
  },
  {
   "cell_type": "code",
   "execution_count": 5,
   "metadata": {},
   "outputs": [],
   "source": [
    "# Carrega os dados\n",
    "dados = pd.read_csv(r\"dados/dataset.csv\")"
   ]
  },
  {
   "cell_type": "code",
   "execution_count": 6,
   "metadata": {},
   "outputs": [
    {
     "data": {
      "text/plain": [
       "(18, 6)"
      ]
     },
     "execution_count": 6,
     "metadata": {},
     "output_type": "execute_result"
    }
   ],
   "source": [
    "# Shape\n",
    "dados.shape"
   ]
  },
  {
   "cell_type": "code",
   "execution_count": 7,
   "metadata": {},
   "outputs": [
    {
     "data": {
      "text/plain": [
       "Index(['Ano', 'Periodo', 'Total_Vendas',\n",
       "       'Percentual_Aumento_Vendas_Ano_Anterior', 'Total_Unidades_Vendidas',\n",
       "       'Percentual_Aumento_Unidades_Ano_Anterior'],\n",
       "      dtype='object')"
      ]
     },
     "execution_count": 7,
     "metadata": {},
     "output_type": "execute_result"
    }
   ],
   "source": [
    "# Colunas\n",
    "dados.columns"
   ]
  },
  {
   "cell_type": "code",
   "execution_count": 8,
   "metadata": {},
   "outputs": [
    {
     "data": {
      "text/html": [
       "<div>\n",
       "<style scoped>\n",
       "    .dataframe tbody tr th:only-of-type {\n",
       "        vertical-align: middle;\n",
       "    }\n",
       "\n",
       "    .dataframe tbody tr th {\n",
       "        vertical-align: top;\n",
       "    }\n",
       "\n",
       "    .dataframe thead th {\n",
       "        text-align: right;\n",
       "    }\n",
       "</style>\n",
       "<table border=\"1\" class=\"dataframe\">\n",
       "  <thead>\n",
       "    <tr style=\"text-align: right;\">\n",
       "      <th></th>\n",
       "      <th>Ano</th>\n",
       "      <th>Periodo</th>\n",
       "      <th>Total_Vendas</th>\n",
       "      <th>Percentual_Aumento_Vendas_Ano_Anterior</th>\n",
       "      <th>Total_Unidades_Vendidas</th>\n",
       "      <th>Percentual_Aumento_Unidades_Ano_Anterior</th>\n",
       "    </tr>\n",
       "  </thead>\n",
       "  <tbody>\n",
       "    <tr>\n",
       "      <th>0</th>\n",
       "      <td>2002</td>\n",
       "      <td>2002-03</td>\n",
       "      <td>19666.640</td>\n",
       "      <td>6.610000</td>\n",
       "      <td>3097</td>\n",
       "      <td>7.570000</td>\n",
       "    </tr>\n",
       "    <tr>\n",
       "      <th>1</th>\n",
       "      <td>2003</td>\n",
       "      <td>2003-04</td>\n",
       "      <td>20384.980</td>\n",
       "      <td>3.652581</td>\n",
       "      <td>3289</td>\n",
       "      <td>6.199548</td>\n",
       "    </tr>\n",
       "    <tr>\n",
       "      <th>2</th>\n",
       "      <td>2004</td>\n",
       "      <td>2004-05</td>\n",
       "      <td>20810.281</td>\n",
       "      <td>2.086345</td>\n",
       "      <td>3490</td>\n",
       "      <td>6.111280</td>\n",
       "    </tr>\n",
       "    <tr>\n",
       "      <th>3</th>\n",
       "      <td>2005</td>\n",
       "      <td>2005-06</td>\n",
       "      <td>21184.427</td>\n",
       "      <td>1.797890</td>\n",
       "      <td>3626</td>\n",
       "      <td>3.896848</td>\n",
       "    </tr>\n",
       "    <tr>\n",
       "      <th>4</th>\n",
       "      <td>2006</td>\n",
       "      <td>2006-07</td>\n",
       "      <td>21977.311</td>\n",
       "      <td>3.742768</td>\n",
       "      <td>3736</td>\n",
       "      <td>3.033646</td>\n",
       "    </tr>\n",
       "  </tbody>\n",
       "</table>\n",
       "</div>"
      ],
      "text/plain": [
       "    Ano  Periodo  Total_Vendas  Percentual_Aumento_Vendas_Ano_Anterior  \\\n",
       "0  2002  2002-03     19666.640                                6.610000   \n",
       "1  2003  2003-04     20384.980                                3.652581   \n",
       "2  2004  2004-05     20810.281                                2.086345   \n",
       "3  2005  2005-06     21184.427                                1.797890   \n",
       "4  2006  2006-07     21977.311                                3.742768   \n",
       "\n",
       "   Total_Unidades_Vendidas  Percentual_Aumento_Unidades_Ano_Anterior  \n",
       "0                     3097                                  7.570000  \n",
       "1                     3289                                  6.199548  \n",
       "2                     3490                                  6.111280  \n",
       "3                     3626                                  3.896848  \n",
       "4                     3736                                  3.033646  "
      ]
     },
     "execution_count": 8,
     "metadata": {},
     "output_type": "execute_result"
    }
   ],
   "source": [
    "# Amostra de dados\n",
    "dados.head()"
   ]
  },
  {
   "cell_type": "markdown",
   "metadata": {},
   "source": [
    "### Pré-Processamento dos Dados"
   ]
  },
  {
   "cell_type": "code",
   "execution_count": 9,
   "metadata": {},
   "outputs": [],
   "source": [
    "# Extraindo a variável ano (variável de entrada)\n",
    "array_ano = dados[\"Ano\"].values.reshape(-1,1)"
   ]
  },
  {
   "cell_type": "code",
   "execution_count": 10,
   "metadata": {},
   "outputs": [
    {
     "data": {
      "text/plain": [
       "array([[2002],\n",
       "       [2003],\n",
       "       [2004],\n",
       "       [2005],\n",
       "       [2006],\n",
       "       [2007],\n",
       "       [2008],\n",
       "       [2009],\n",
       "       [2010],\n",
       "       [2011],\n",
       "       [2012],\n",
       "       [2013],\n",
       "       [2014],\n",
       "       [2015],\n",
       "       [2016],\n",
       "       [2017],\n",
       "       [2018],\n",
       "       [2019]])"
      ]
     },
     "execution_count": 10,
     "metadata": {},
     "output_type": "execute_result"
    }
   ],
   "source": [
    "array_ano"
   ]
  },
  {
   "cell_type": "code",
   "execution_count": 11,
   "metadata": {},
   "outputs": [
    {
     "data": {
      "text/plain": [
       "numpy.ndarray"
      ]
     },
     "execution_count": 11,
     "metadata": {},
     "output_type": "execute_result"
    }
   ],
   "source": [
    "type(array_ano)"
   ]
  },
  {
   "cell_type": "code",
   "execution_count": 12,
   "metadata": {},
   "outputs": [
    {
     "name": "stdout",
     "output_type": "stream",
     "text": [
      "[2019]\n",
      "[2002]\n"
     ]
    }
   ],
   "source": [
    "# Valores máximo e mínimo\n",
    "max_f = max(array_ano)\n",
    "min_f = min(array_ano)\n",
    "print(max_f)\n",
    "print(min_f)"
   ]
  },
  {
   "cell_type": "code",
   "execution_count": 13,
   "metadata": {},
   "outputs": [
    {
     "name": "stdout",
     "output_type": "stream",
     "text": [
      "[[2002]\n",
      " [2003]\n",
      " [2004]\n",
      " [2005]\n",
      " [2006]\n",
      " [2007]\n",
      " [2008]\n",
      " [2009]\n",
      " [2010]\n",
      " [2011]\n",
      " [2012]\n",
      " [2013]\n",
      " [2014]\n",
      " [2015]\n",
      " [2016]\n",
      " [2017]\n",
      " [2018]\n",
      " [2019]]\n"
     ]
    }
   ],
   "source": [
    "# Pré-processamento (normalização)\n",
    "norm_features = preprocessing.minmax_scale(array_ano)\n",
    "print(array_ano)"
   ]
  },
  {
   "cell_type": "code",
   "execution_count": 14,
   "metadata": {},
   "outputs": [],
   "source": [
    "# Variável de saída\n",
    "label = dados[\"Total_Vendas\"]"
   ]
  },
  {
   "cell_type": "code",
   "execution_count": 15,
   "metadata": {},
   "outputs": [
    {
     "data": {
      "text/plain": [
       "0     19666.640\n",
       "1     20384.980\n",
       "2     20810.281\n",
       "3     21184.427\n",
       "4     21977.311\n",
       "5     22580.893\n",
       "6     22313.054\n",
       "7     24124.309\n",
       "8     25667.919\n",
       "9     26617.490\n",
       "10    27234.865\n",
       "11    28029.747\n",
       "12    28963.782\n",
       "13    29415.865\n",
       "14    30790.906\n",
       "15    32009.092\n",
       "16    33370.630\n",
       "17    34700.115\n",
       "Name: Total_Vendas, dtype: float64"
      ]
     },
     "execution_count": 15,
     "metadata": {},
     "output_type": "execute_result"
    }
   ],
   "source": [
    "# Visualiza\n",
    "label"
   ]
  },
  {
   "cell_type": "code",
   "execution_count": 16,
   "metadata": {},
   "outputs": [
    {
     "name": "stdout",
     "output_type": "stream",
     "text": [
      "34700.115\n",
      "19666.64\n"
     ]
    }
   ],
   "source": [
    "# Valores máximo e mínimo\n",
    "max_l = max(label)\n",
    "min_l = min(label)\n",
    "print(max_l)\n",
    "print(min_l)"
   ]
  },
  {
   "cell_type": "code",
   "execution_count": 17,
   "metadata": {},
   "outputs": [
    {
     "data": {
      "image/png": "[encoded data removed]",
      "text/plain": [
       "<Figure size 1200x600 with 1 Axes>"
      ]
     },
     "metadata": {},
     "output_type": "display_data"
    }
   ],
   "source": [
    "# Plot\n",
    "plt.figure(figsize = (12, 6))\n",
    "plt.scatter(dados['Ano'], dados['Total_Vendas'], c = 'blue')\n",
    "plt.ylabel(\"Total_Vendas\")\n",
    "plt.xlabel(\"Ano\")\n",
    "plt.show()"
   ]
  },
  {
   "cell_type": "code",
   "execution_count": 18,
   "metadata": {},
   "outputs": [
    {
     "name": "stdout",
     "output_type": "stream",
     "text": [
      "[0.         0.0477827  0.07607296 0.10096049 0.15370172 0.19385092\n",
      " 0.17603475 0.29651621 0.3991944  0.46235817 0.50342486 0.55629899\n",
      " 0.61842934 0.6485011  0.73996638 0.82099794 0.91156502 1.        ]\n"
     ]
    }
   ],
   "source": [
    "# Normaliza o label\n",
    "norm_label = preprocessing.minmax_scale(label)\n",
    "print(norm_label)"
   ]
  },
  {
   "cell_type": "code",
   "execution_count": 19,
   "metadata": {},
   "outputs": [],
   "source": [
    "# Divide os dados em treino e teste\n",
    "x_treino, x_teste, y_treino, y_teste = train_test_split(norm_features, \n",
    "                                                        norm_label, \n",
    "                                                        test_size = 0.075,\n",
    "                                                        random_state = 3)"
   ]
  },
  {
   "cell_type": "markdown",
   "metadata": {},
   "source": [
    "### Modelo Single Output Regression"
   ]
  },
  {
   "cell_type": "code",
   "execution_count": 20,
   "metadata": {},
   "outputs": [],
   "source": [
    "# Cria o modelo de regressão linear com single output\n",
    "modelo_single_output = linear_model.LinearRegression()"
   ]
  },
  {
   "cell_type": "code",
   "execution_count": 21,
   "metadata": {},
   "outputs": [
    {
     "data": {
      "text/plain": [
       "LinearRegression()"
      ]
     },
     "execution_count": 21,
     "metadata": {},
     "output_type": "execute_result"
    }
   ],
   "source": [
    "# Treinamento\n",
    "modelo_single_output.fit(x_treino, y_treino)"
   ]
  },
  {
   "cell_type": "code",
   "execution_count": 22,
   "metadata": {},
   "outputs": [],
   "source": [
    "# Lista de anos para as previsões\n",
    "anos = [2020,2021,2022,2023,2024,2025]"
   ]
  },
  {
   "cell_type": "code",
   "execution_count": 23,
   "metadata": {},
   "outputs": [
    {
     "name": "stdout",
     "output_type": "stream",
     "text": [
      "2020\n",
      "[0.98805448]\n",
      "[34520.53236724]\n",
      "2021\n",
      "[1.04707872]\n",
      "[35407.87182586]\n",
      "2022\n",
      "[1.10610297]\n",
      "[36295.21128448]\n",
      "2023\n",
      "[1.16512721]\n",
      "[37182.5507431]\n",
      "2024\n",
      "[1.22415145]\n",
      "[38069.89020172]\n",
      "2025\n",
      "[1.28317569]\n",
      "[38957.22966034]\n"
     ]
    },
    {
     "data": {
      "image/png": "[encoded data removed]",
      "text/plain": [
       "<Figure size 640x480 with 1 Axes>"
      ]
     },
     "metadata": {},
     "output_type": "display_data"
    }
   ],
   "source": [
    "# Loop com as previsões\n",
    "for i in anos:\n",
    "    \n",
    "    x = i\n",
    "    print(x)\n",
    "    \n",
    "    # Normaliza os dados\n",
    "    scaled_x = float((x - min_f) / (max_f - min_f))\n",
    "    \n",
    "    # Extrai o coeficiente do valor previsto\n",
    "    coef = modelo_single_output.predict([[scaled_x]])\n",
    "    print(coef)\n",
    "    \n",
    "    # Calcula a previsão desfazendo a normalização\n",
    "    pred = coef * (max_l - min_l) + min_l\n",
    "    y = pred\n",
    "    print(y)\n",
    "    \n",
    "    # Plot\n",
    "    plt.scatter(x, y)\n",
    "    plt.bar(x, pred)\n",
    "    plt.ylabel('Total Vendas')\n",
    "    plt.xlabel('Tempo (Anos)')\n",
    "    plt.grid(True)\n",
    "    plt.title('Previsões de Vendas Para os Próximos Anos')"
   ]
  },
  {
   "cell_type": "code",
   "execution_count": 24,
   "metadata": {},
   "outputs": [],
   "source": [
    "# Extrai as previsões do modelo\n",
    "y_pred = modelo_single_output.predict(x_teste)"
   ]
  },
  {
   "cell_type": "code",
   "execution_count": 25,
   "metadata": {},
   "outputs": [
    {
     "name": "stdout",
     "output_type": "stream",
     "text": [
      "Valor Real x Valor Previsto:\n",
      "\n",
      "    Total Vendas Real  Total Vendas Previsão\n",
      "0           0.556299               0.574885\n",
      "1           0.076073               0.043667\n"
     ]
    }
   ],
   "source": [
    "# Calcula a performance do modelo\n",
    "df = pd.DataFrame({'Total Vendas Real':y_teste, 'Total Vendas Previsão':y_pred})\n",
    "print(\"Valor Real x Valor Previsto:\\n\\n\", df)"
   ]
  },
  {
   "cell_type": "code",
   "execution_count": 26,
   "metadata": {},
   "outputs": [],
   "source": [
    "# Score\n",
    "score = modelo_single_output.score(x_teste, y_teste)"
   ]
  },
  {
   "cell_type": "code",
   "execution_count": 27,
   "metadata": {},
   "outputs": [
    {
     "name": "stdout",
     "output_type": "stream",
     "text": [
      "Precisão do Modelo: 98.78967908950258\n",
      "Mean Absolute Error: 0.02549607218511519\n",
      "Mean Squared Error: 0.0006978015610769222\n",
      "Root Mean Squared Error: 0.026415933848284112\n"
     ]
    }
   ],
   "source": [
    "print(\"Precisão do Modelo:\",(score * 100))\n",
    "print('Mean Absolute Error:', metrics.mean_absolute_error(y_teste, y_pred))\n",
    "print('Mean Squared Error:', metrics.mean_squared_error(y_teste, y_pred))\n",
    "print('Root Mean Squared Error:', np.sqrt(metrics.mean_squared_error(y_teste, y_pred)))"
   ]
  },
  {
   "cell_type": "markdown",
   "metadata": {},
   "source": [
    "## Tarefa 2 - Multiple Output Regression Analysis"
   ]
  },
  {
   "cell_type": "markdown",
   "metadata": {},
   "source": [
    "https://scikit-learn.org/stable/modules/generated/sklearn.multioutput.MultiOutputRegressor.html"
   ]
  },
  {
   "cell_type": "code",
   "execution_count": 28,
   "metadata": {},
   "outputs": [],
   "source": [
    "# Imports\n",
    "import numpy as np\n",
    "import pandas as pd\n",
    "import matplotlib.pyplot as plt\n",
    "from sklearn.ensemble import RandomForestRegressor\n",
    "from sklearn.model_selection import train_test_split\n",
    "from sklearn.multioutput import MultiOutputRegressor\n",
    "from sklearn import metrics \n",
    "from sklearn.metrics import accuracy_score"
   ]
  },
  {
   "cell_type": "code",
   "execution_count": 29,
   "metadata": {},
   "outputs": [
    {
     "name": "stdout",
     "output_type": "stream",
     "text": [
      "Author: Versions\n",
      "\n",
      "numpy     : 1.21.5\n",
      "sklearn   : 1.0.2\n",
      "pandas    : 1.4.4\n",
      "matplotlib: 3.5.2\n",
      "\n"
     ]
    }
   ],
   "source": [
    "# Versões dos pacotes usados neste jupyter notebook\n",
    "%reload_ext watermark\n",
    "%watermark -a \"Versions\" --iversions"
   ]
  },
  {
   "cell_type": "markdown",
   "metadata": {},
   "source": [
    "### Carregando os Dados"
   ]
  },
  {
   "cell_type": "code",
   "execution_count": 30,
   "metadata": {},
   "outputs": [],
   "source": [
    "# Carrega os dados\n",
    "dados = pd.read_csv(r\"dados/dataset.csv\")"
   ]
  },
  {
   "cell_type": "code",
   "execution_count": 31,
   "metadata": {},
   "outputs": [
    {
     "data": {
      "text/html": [
       "<div>\n",
       "<style scoped>\n",
       "    .dataframe tbody tr th:only-of-type {\n",
       "        vertical-align: middle;\n",
       "    }\n",
       "\n",
       "    .dataframe tbody tr th {\n",
       "        vertical-align: top;\n",
       "    }\n",
       "\n",
       "    .dataframe thead th {\n",
       "        text-align: right;\n",
       "    }\n",
       "</style>\n",
       "<table border=\"1\" class=\"dataframe\">\n",
       "  <thead>\n",
       "    <tr style=\"text-align: right;\">\n",
       "      <th></th>\n",
       "      <th>Ano</th>\n",
       "      <th>Periodo</th>\n",
       "      <th>Total_Vendas</th>\n",
       "      <th>Percentual_Aumento_Vendas_Ano_Anterior</th>\n",
       "      <th>Total_Unidades_Vendidas</th>\n",
       "      <th>Percentual_Aumento_Unidades_Ano_Anterior</th>\n",
       "    </tr>\n",
       "  </thead>\n",
       "  <tbody>\n",
       "    <tr>\n",
       "      <th>0</th>\n",
       "      <td>2002</td>\n",
       "      <td>2002-03</td>\n",
       "      <td>19666.640</td>\n",
       "      <td>6.610000</td>\n",
       "      <td>3097</td>\n",
       "      <td>7.570000</td>\n",
       "    </tr>\n",
       "    <tr>\n",
       "      <th>1</th>\n",
       "      <td>2003</td>\n",
       "      <td>2003-04</td>\n",
       "      <td>20384.980</td>\n",
       "      <td>3.652581</td>\n",
       "      <td>3289</td>\n",
       "      <td>6.199548</td>\n",
       "    </tr>\n",
       "    <tr>\n",
       "      <th>2</th>\n",
       "      <td>2004</td>\n",
       "      <td>2004-05</td>\n",
       "      <td>20810.281</td>\n",
       "      <td>2.086345</td>\n",
       "      <td>3490</td>\n",
       "      <td>6.111280</td>\n",
       "    </tr>\n",
       "    <tr>\n",
       "      <th>3</th>\n",
       "      <td>2005</td>\n",
       "      <td>2005-06</td>\n",
       "      <td>21184.427</td>\n",
       "      <td>1.797890</td>\n",
       "      <td>3626</td>\n",
       "      <td>3.896848</td>\n",
       "    </tr>\n",
       "    <tr>\n",
       "      <th>4</th>\n",
       "      <td>2006</td>\n",
       "      <td>2006-07</td>\n",
       "      <td>21977.311</td>\n",
       "      <td>3.742768</td>\n",
       "      <td>3736</td>\n",
       "      <td>3.033646</td>\n",
       "    </tr>\n",
       "  </tbody>\n",
       "</table>\n",
       "</div>"
      ],
      "text/plain": [
       "    Ano  Periodo  Total_Vendas  Percentual_Aumento_Vendas_Ano_Anterior  \\\n",
       "0  2002  2002-03     19666.640                                6.610000   \n",
       "1  2003  2003-04     20384.980                                3.652581   \n",
       "2  2004  2004-05     20810.281                                2.086345   \n",
       "3  2005  2005-06     21184.427                                1.797890   \n",
       "4  2006  2006-07     21977.311                                3.742768   \n",
       "\n",
       "   Total_Unidades_Vendidas  Percentual_Aumento_Unidades_Ano_Anterior  \n",
       "0                     3097                                  7.570000  \n",
       "1                     3289                                  6.199548  \n",
       "2                     3490                                  6.111280  \n",
       "3                     3626                                  3.896848  \n",
       "4                     3736                                  3.033646  "
      ]
     },
     "execution_count": 31,
     "metadata": {},
     "output_type": "execute_result"
    }
   ],
   "source": [
    "# Visualiza os dados\n",
    "dados.head()"
   ]
  },
  {
   "cell_type": "code",
   "execution_count": 32,
   "metadata": {},
   "outputs": [
    {
     "data": {
      "image/png": "[encoded data removed]",
      "text/plain": [
       "<Figure size 1200x600 with 1 Axes>"
      ]
     },
     "metadata": {},
     "output_type": "display_data"
    }
   ],
   "source": [
    "# Plot\n",
    "plt.figure(figsize = (12, 6))\n",
    "plt.scatter(dados['Ano'], dados['Total_Vendas'], c = 'purple')\n",
    "plt.ylabel(\"Total Vendas\")\n",
    "plt.xlabel(\"Ano\")\n",
    "plt.show()"
   ]
  },
  {
   "cell_type": "code",
   "execution_count": 33,
   "metadata": {},
   "outputs": [
    {
     "data": {
      "image/png": "[encoded data removed]",
      "text/plain": [
       "<Figure size 1200x600 with 1 Axes>"
      ]
     },
     "metadata": {},
     "output_type": "display_data"
    }
   ],
   "source": [
    "# Plot\n",
    "plt.figure(figsize = (12, 6))\n",
    "plt.scatter(dados['Ano'], dados['Total_Unidades_Vendidas'], c = 'green')\n",
    "plt.ylabel(\"Total Unidades Vendidas\")\n",
    "plt.xlabel(\"Ano\")\n",
    "plt.show()"
   ]
  },
  {
   "cell_type": "code",
   "execution_count": 34,
   "metadata": {},
   "outputs": [],
   "source": [
    "# Extrai a variável preditora\n",
    "X = dados[\"Ano\"].values.reshape(-1,1)"
   ]
  },
  {
   "cell_type": "code",
   "execution_count": 35,
   "metadata": {},
   "outputs": [],
   "source": [
    "# Extrai duas variáveis alvo\n",
    "Y = dados.iloc[:, [2,4]]"
   ]
  },
  {
   "cell_type": "code",
   "execution_count": 36,
   "metadata": {},
   "outputs": [
    {
     "name": "stdout",
     "output_type": "stream",
     "text": [
      "    Total_Vendas  Total_Unidades_Vendidas\n",
      "0      19666.640                     3097\n",
      "1      20384.980                     3289\n",
      "2      20810.281                     3490\n",
      "3      21184.427                     3626\n",
      "4      21977.311                     3736\n",
      "5      22580.893                     4030\n",
      "6      22313.054                     4034\n",
      "7      24124.309                     4408\n",
      "8      25667.919                     4720\n",
      "9      26617.490                     5028\n",
      "10     27234.865                     5642\n",
      "11     28029.747                     5653\n",
      "12     28963.782                     5925\n",
      "13     29415.865                     5846\n",
      "14     30790.906                     6261\n",
      "15     32009.092                     6526\n",
      "16     33370.630                     6934\n",
      "17     34700.115                     7409\n"
     ]
    }
   ],
   "source": [
    "print(Y)"
   ]
  },
  {
   "cell_type": "code",
   "execution_count": 37,
   "metadata": {},
   "outputs": [],
   "source": [
    "# Diviasão em treino e teste\n",
    "X_treino, X_teste, y_treino, y_teste = train_test_split(X, Y, test_size = 0.10, random_state = 4)"
   ]
  },
  {
   "cell_type": "markdown",
   "metadata": {},
   "source": [
    "### Modelo MultiOutput Regressor"
   ]
  },
  {
   "cell_type": "code",
   "execution_count": 38,
   "metadata": {},
   "outputs": [],
   "source": [
    "# Hiperparâmetros\n",
    "max_depth = 30\n",
    "num_estimadores = 100"
   ]
  },
  {
   "cell_type": "code",
   "execution_count": 39,
   "metadata": {},
   "outputs": [],
   "source": [
    "# Cria o modelo\n",
    "modelo_multioutput = MultiOutputRegressor(RandomForestRegressor(n_estimators = num_estimadores,\n",
    "                                                                max_depth = max_depth,\n",
    "                                                                random_state = 42))"
   ]
  },
  {
   "cell_type": "code",
   "execution_count": 40,
   "metadata": {},
   "outputs": [
    {
     "data": {
      "text/plain": [
       "MultiOutputRegressor(estimator=RandomForestRegressor(max_depth=30,\n",
       "                                                     random_state=42))"
      ]
     },
     "execution_count": 40,
     "metadata": {},
     "output_type": "execute_result"
    }
   ],
   "source": [
    "# Treinamento\n",
    "modelo_multioutput.fit(X_treino, y_treino)"
   ]
  },
  {
   "cell_type": "code",
   "execution_count": 41,
   "metadata": {},
   "outputs": [],
   "source": [
    "# Previsão do modelo\n",
    "y_pred = modelo_multioutput.predict(X_teste)"
   ]
  },
  {
   "cell_type": "code",
   "execution_count": 42,
   "metadata": {},
   "outputs": [
    {
     "data": {
      "text/plain": [
       "array([[23045.39749,  4130.04   ],\n",
       "       [21132.40174,  3550.66   ]])"
      ]
     },
     "execution_count": 42,
     "metadata": {},
     "output_type": "execute_result"
    }
   ],
   "source": [
    "y_pred"
   ]
  },
  {
   "cell_type": "code",
   "execution_count": 43,
   "metadata": {},
   "outputs": [
    {
     "data": {
      "image/png": "[encoded data removed]",
      "text/plain": [
       "<Figure size 640x480 with 1 Axes>"
      ]
     },
     "metadata": {},
     "output_type": "display_data"
    }
   ],
   "source": [
    "# Plot\n",
    "\n",
    "# Cria a figura\n",
    "plt.figure()\n",
    "\n",
    "# Plot dos dados reais\n",
    "plt.scatter(y_teste.iloc[:, 0].values, \n",
    "            y_teste.iloc[:, 1].values, \n",
    "            edgecolor = 'k', \n",
    "            c = \"yellow\", \n",
    "            s = 50, \n",
    "            marker = \"s\", \n",
    "            alpha = 0.6, \n",
    "            label = \"Dados Reais\")\n",
    "\n",
    "# Plot das previsões\n",
    "plt.scatter(y_pred[:, 0], \n",
    "            y_pred[:, 1], \n",
    "            edgecolor = 'k',\n",
    "            c = \"red\", \n",
    "            s = 50, \n",
    "            alpha = 0.6,\n",
    "            label = \"Previsões Modelo MultiOutput\")\n",
    "\n",
    "# Limites para o gráfico\n",
    "plt.xlim([20500, 23400])\n",
    "plt.ylim([3000, 5000])\n",
    "\n",
    "# Labels do gráfico\n",
    "plt.xlabel(\"Total Vendas (R$)\")\n",
    "plt.ylabel(\"Total Unidades Vendidas\")\n",
    "plt.title(\"Previsão de Demanda\")\n",
    "plt.legend()\n",
    "plt.show()"
   ]
  },
  {
   "cell_type": "code",
   "execution_count": 44,
   "metadata": {},
   "outputs": [
    {
     "name": "stdout",
     "output_type": "stream",
     "text": [
      "Mean Absolute Error: 238.9371875000004\n",
      "Mean Squared Error: 138483.35305585555\n",
      "Root Mean Squared Error: 372.13351509351526\n"
     ]
    }
   ],
   "source": [
    "print('Mean Absolute Error:', metrics.mean_absolute_error(y_teste, y_pred))\n",
    "print('Mean Squared Error:', metrics.mean_squared_error(y_teste, y_pred))\n",
    "print('Root Mean Squared Error:', np.sqrt(metrics.mean_squared_error(y_teste, y_pred)))"
   ]
  },
  {
   "cell_type": "code",
   "execution_count": 45,
   "metadata": {},
   "outputs": [
    {
     "name": "stdout",
     "output_type": "stream",
     "text": [
      "\n",
      "X_Teste\n",
      " [[2008]\n",
      " [2005]]\n",
      "\n",
      "Y_teste\n",
      "    Total_Vendas  Total_Unidades_Vendidas\n",
      "6     22313.054                     4034\n",
      "3     21184.427                     3626\n",
      "\n",
      "Y_pred\n",
      " [[23045.39749  4130.04   ]\n",
      " [21132.40174  3550.66   ]]\n"
     ]
    }
   ],
   "source": [
    "print(\"\\nX_Teste\\n\", X_teste)\n",
    "print(\"\\nY_teste\\n\", y_teste)\n",
    "print(\"\\nY_pred\\n\", y_pred)"
   ]
  },
  {
   "cell_type": "markdown",
   "metadata": {},
   "source": [
    "# Fim"
   ]
  }
 ],
 "metadata": {
  "kernelspec": {
   "display_name": "Python 3 (ipykernel)",
   "language": "python",
   "name": "python3"
  },
  "language_info": {
   "codemirror_mode": {
    "name": "ipython",
    "version": 3
   },
   "file_extension": ".py",
   "mimetype": "text/x-python",
   "name": "python",
   "nbconvert_exporter": "python",
   "pygments_lexer": "ipython3",
   "version": "3.9.13"
  }
 },
 "nbformat": 4,
 "nbformat_minor": 4
}

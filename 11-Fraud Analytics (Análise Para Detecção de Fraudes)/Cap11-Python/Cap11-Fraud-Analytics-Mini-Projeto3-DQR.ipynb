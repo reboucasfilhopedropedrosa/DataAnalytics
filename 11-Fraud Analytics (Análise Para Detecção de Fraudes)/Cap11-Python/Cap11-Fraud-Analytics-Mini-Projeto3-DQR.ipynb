{
 "cells": [
  {
   "cell_type": "markdown",
   "metadata": {},
   "source": [
    "# <font color='blue'>Business Analytics</font>\n",
    "\n",
    "# <font color='blue'>Capítulo 11 - Fraud Analytics</font>\n",
    "## <font color='blue'>Mini-Projeto 3</font>\n",
    "### <font color='blue'>Data Quality Report e Detecção de Fraudes em Transações Imobiliárias</font>"
   ]
  },
  {
   "cell_type": "markdown",
   "metadata": {},
   "source": [
    "## Etapa 1 - Data Quality Report (DQR)\n",
    "\n",
    "O DQR é um relatório analítico com o objetivo de compreender a organização dos dados, se estão coerentes, se há alguma anomalia amplamente visível e resumir os dados (ou pelo menos as variáveis mais importantes) com base na compreensão do problema de negócio.\n",
    "\n",
    "A descrição do que representa cada variável está disponível no Dicionário de Dados e no material complementar no link abaixo:\n",
    "\n",
    "https://www1.nyc.gov/site/finance/taxes/definitions-of-property-assessment-terms.page"
   ]
  },
  {
   "cell_type": "markdown",
   "metadata": {},
   "source": [
    "![title](imagens/mini-projeto3.png)"
   ]
  },
  {
   "cell_type": "code",
   "execution_count": 1,
   "metadata": {},
   "outputs": [
    {
     "name": "stdout",
     "output_type": "stream",
     "text": [
      "Versão da Linguagem Python Usada Neste Jupyter Notebook: 3.9.13\n"
     ]
    }
   ],
   "source": [
    "# Versão da Linguagem Python\n",
    "from platform import python_version\n",
    "print('Versão da Linguagem Python Usada Neste Jupyter Notebook:', python_version())"
   ]
  },
  {
   "cell_type": "markdown",
   "metadata": {},
   "source": [
    "## Instalando e Carregando os Pacotes"
   ]
  },
  {
   "cell_type": "code",
   "execution_count": 2,
   "metadata": {},
   "outputs": [],
   "source": [
    "# Para atualizar um pacote, execute o comando abaixo no terminal ou prompt de comando:\n",
    "# pip install -U nome_pacote\n",
    "\n",
    "# Para instalar a versão exata de um pacote, execute o comando abaixo no terminal ou prompt de comando:\n",
    "# !pip install nome_pacote==versão_desejada\n",
    "\n",
    "# Depois de instalar ou atualizar o pacote, reinicie o jupyter notebook.\n",
    "\n",
    "# Instala o pacote watermark. \n",
    "# Esse pacote é usado para gravar as versões de outros pacotes usados neste jupyter notebook.\n",
    "!pip install -q -U watermark"
   ]
  },
  {
   "cell_type": "code",
   "execution_count": 3,
   "metadata": {},
   "outputs": [],
   "source": [
    "# Imports\n",
    "import numpy as np\n",
    "import pandas as pd\n",
    "import matplotlib.pyplot as plt\n",
    "import matplotlib.pyplot as pyplot\n",
    "import seaborn as sns\n",
    "import warnings\n",
    "warnings.filterwarnings(\"ignore\")\n",
    "pd.set_option('display.float_format', lambda x : '%.2f' % x)\n",
    "%matplotlib inline"
   ]
  },
  {
   "cell_type": "code",
   "execution_count": 4,
   "metadata": {},
   "outputs": [
    {
     "name": "stdout",
     "output_type": "stream",
     "text": [
      "Author: Versions\n",
      "\n",
      "matplotlib: 3.5.2\n",
      "seaborn   : 0.11.2\n",
      "pandas    : 1.4.4\n",
      "numpy     : 1.21.5\n",
      "\n"
     ]
    }
   ],
   "source": [
    "# Versões dos pacotes usados neste jupyter notebook\n",
    "%reload_ext watermark\n",
    "%watermark -a \"Versions\" --iversions"
   ]
  },
  {
   "cell_type": "markdown",
   "metadata": {},
   "source": [
    "## Resumo dos Dados"
   ]
  },
  {
   "cell_type": "code",
   "execution_count": 5,
   "metadata": {},
   "outputs": [],
   "source": [
    "# Carrega os dados\n",
    "dados = pd.read_csv('dados/dataset.csv', index_col = 0)"
   ]
  },
  {
   "cell_type": "code",
   "execution_count": 6,
   "metadata": {},
   "outputs": [
    {
     "data": {
      "text/plain": [
       "(1070994, 31)"
      ]
     },
     "execution_count": 6,
     "metadata": {},
     "output_type": "execute_result"
    }
   ],
   "source": [
    "# Shape\n",
    "dados.shape"
   ]
  },
  {
   "cell_type": "code",
   "execution_count": 7,
   "metadata": {},
   "outputs": [
    {
     "data": {
      "text/html": [
       "<div>\n",
       "<style scoped>\n",
       "    .dataframe tbody tr th:only-of-type {\n",
       "        vertical-align: middle;\n",
       "    }\n",
       "\n",
       "    .dataframe tbody tr th {\n",
       "        vertical-align: top;\n",
       "    }\n",
       "\n",
       "    .dataframe thead th {\n",
       "        text-align: right;\n",
       "    }\n",
       "</style>\n",
       "<table border=\"1\" class=\"dataframe\">\n",
       "  <thead>\n",
       "    <tr style=\"text-align: right;\">\n",
       "      <th></th>\n",
       "      <th>BBLE</th>\n",
       "      <th>B</th>\n",
       "      <th>BLOCK</th>\n",
       "      <th>LOT</th>\n",
       "      <th>EASEMENT</th>\n",
       "      <th>OWNER</th>\n",
       "      <th>BLDGCL</th>\n",
       "      <th>TAXCLASS</th>\n",
       "      <th>LTFRONT</th>\n",
       "      <th>LTDEPTH</th>\n",
       "      <th>...</th>\n",
       "      <th>BLDFRONT</th>\n",
       "      <th>BLDDEPTH</th>\n",
       "      <th>AVLAND2</th>\n",
       "      <th>AVTOT2</th>\n",
       "      <th>EXLAND2</th>\n",
       "      <th>EXTOT2</th>\n",
       "      <th>EXCD2</th>\n",
       "      <th>PERIOD</th>\n",
       "      <th>YEAR</th>\n",
       "      <th>VALTYPE</th>\n",
       "    </tr>\n",
       "    <tr>\n",
       "      <th>RECORD</th>\n",
       "      <th></th>\n",
       "      <th></th>\n",
       "      <th></th>\n",
       "      <th></th>\n",
       "      <th></th>\n",
       "      <th></th>\n",
       "      <th></th>\n",
       "      <th></th>\n",
       "      <th></th>\n",
       "      <th></th>\n",
       "      <th></th>\n",
       "      <th></th>\n",
       "      <th></th>\n",
       "      <th></th>\n",
       "      <th></th>\n",
       "      <th></th>\n",
       "      <th></th>\n",
       "      <th></th>\n",
       "      <th></th>\n",
       "      <th></th>\n",
       "      <th></th>\n",
       "    </tr>\n",
       "  </thead>\n",
       "  <tbody>\n",
       "    <tr>\n",
       "      <th>1</th>\n",
       "      <td>1000010101</td>\n",
       "      <td>1</td>\n",
       "      <td>1</td>\n",
       "      <td>101</td>\n",
       "      <td>NaN</td>\n",
       "      <td>U S GOVT LAND &amp; BLDGS</td>\n",
       "      <td>P7</td>\n",
       "      <td>4</td>\n",
       "      <td>500</td>\n",
       "      <td>1046</td>\n",
       "      <td>...</td>\n",
       "      <td>0</td>\n",
       "      <td>0</td>\n",
       "      <td>3775500.00</td>\n",
       "      <td>8613000.00</td>\n",
       "      <td>3775500.00</td>\n",
       "      <td>8613000.00</td>\n",
       "      <td>NaN</td>\n",
       "      <td>FINAL</td>\n",
       "      <td>2010/11</td>\n",
       "      <td>AC-TR</td>\n",
       "    </tr>\n",
       "    <tr>\n",
       "      <th>2</th>\n",
       "      <td>1000010201</td>\n",
       "      <td>1</td>\n",
       "      <td>1</td>\n",
       "      <td>201</td>\n",
       "      <td>NaN</td>\n",
       "      <td>U S GOVT LAND &amp; BLDGS</td>\n",
       "      <td>Z9</td>\n",
       "      <td>4</td>\n",
       "      <td>27</td>\n",
       "      <td>0</td>\n",
       "      <td>...</td>\n",
       "      <td>0</td>\n",
       "      <td>0</td>\n",
       "      <td>11111400.00</td>\n",
       "      <td>80690400.00</td>\n",
       "      <td>11111400.00</td>\n",
       "      <td>80690400.00</td>\n",
       "      <td>NaN</td>\n",
       "      <td>FINAL</td>\n",
       "      <td>2010/11</td>\n",
       "      <td>AC-TR</td>\n",
       "    </tr>\n",
       "    <tr>\n",
       "      <th>3</th>\n",
       "      <td>1000020001</td>\n",
       "      <td>1</td>\n",
       "      <td>2</td>\n",
       "      <td>1</td>\n",
       "      <td>NaN</td>\n",
       "      <td>DEPT OF GENERAL SERVI</td>\n",
       "      <td>Y7</td>\n",
       "      <td>4</td>\n",
       "      <td>709</td>\n",
       "      <td>564</td>\n",
       "      <td>...</td>\n",
       "      <td>709</td>\n",
       "      <td>564</td>\n",
       "      <td>32321790.00</td>\n",
       "      <td>40179510.00</td>\n",
       "      <td>32321790.00</td>\n",
       "      <td>40179510.00</td>\n",
       "      <td>NaN</td>\n",
       "      <td>FINAL</td>\n",
       "      <td>2010/11</td>\n",
       "      <td>AC-TR</td>\n",
       "    </tr>\n",
       "    <tr>\n",
       "      <th>4</th>\n",
       "      <td>1000020023</td>\n",
       "      <td>1</td>\n",
       "      <td>2</td>\n",
       "      <td>23</td>\n",
       "      <td>NaN</td>\n",
       "      <td>DEPARTMENT OF BUSINES</td>\n",
       "      <td>T2</td>\n",
       "      <td>4</td>\n",
       "      <td>793</td>\n",
       "      <td>551</td>\n",
       "      <td>...</td>\n",
       "      <td>85</td>\n",
       "      <td>551</td>\n",
       "      <td>13644000.00</td>\n",
       "      <td>15750000.00</td>\n",
       "      <td>13644000.00</td>\n",
       "      <td>15750000.00</td>\n",
       "      <td>NaN</td>\n",
       "      <td>FINAL</td>\n",
       "      <td>2010/11</td>\n",
       "      <td>AC-TR</td>\n",
       "    </tr>\n",
       "    <tr>\n",
       "      <th>5</th>\n",
       "      <td>1000030001</td>\n",
       "      <td>1</td>\n",
       "      <td>3</td>\n",
       "      <td>1</td>\n",
       "      <td>NaN</td>\n",
       "      <td>PARKS AND RECREATION</td>\n",
       "      <td>Q1</td>\n",
       "      <td>4</td>\n",
       "      <td>323</td>\n",
       "      <td>1260</td>\n",
       "      <td>...</td>\n",
       "      <td>89</td>\n",
       "      <td>57</td>\n",
       "      <td>106348680.00</td>\n",
       "      <td>107758350.00</td>\n",
       "      <td>106348680.00</td>\n",
       "      <td>107758350.00</td>\n",
       "      <td>NaN</td>\n",
       "      <td>FINAL</td>\n",
       "      <td>2010/11</td>\n",
       "      <td>AC-TR</td>\n",
       "    </tr>\n",
       "  </tbody>\n",
       "</table>\n",
       "<p>5 rows × 31 columns</p>\n",
       "</div>"
      ],
      "text/plain": [
       "              BBLE  B  BLOCK  LOT EASEMENT                  OWNER BLDGCL  \\\n",
       "RECORD                                                                     \n",
       "1       1000010101  1      1  101      NaN  U S GOVT LAND & BLDGS     P7   \n",
       "2       1000010201  1      1  201      NaN  U S GOVT LAND & BLDGS     Z9   \n",
       "3       1000020001  1      2    1      NaN  DEPT OF GENERAL SERVI     Y7   \n",
       "4       1000020023  1      2   23      NaN  DEPARTMENT OF BUSINES     T2   \n",
       "5       1000030001  1      3    1      NaN   PARKS AND RECREATION     Q1   \n",
       "\n",
       "       TAXCLASS  LTFRONT  LTDEPTH  ... BLDFRONT  BLDDEPTH      AVLAND2  \\\n",
       "RECORD                             ...                                   \n",
       "1             4      500     1046  ...        0         0   3775500.00   \n",
       "2             4       27        0  ...        0         0  11111400.00   \n",
       "3             4      709      564  ...      709       564  32321790.00   \n",
       "4             4      793      551  ...       85       551  13644000.00   \n",
       "5             4      323     1260  ...       89        57 106348680.00   \n",
       "\n",
       "             AVTOT2      EXLAND2       EXTOT2  EXCD2  PERIOD     YEAR  VALTYPE  \n",
       "RECORD                                                                          \n",
       "1        8613000.00   3775500.00   8613000.00    NaN   FINAL  2010/11    AC-TR  \n",
       "2       80690400.00  11111400.00  80690400.00    NaN   FINAL  2010/11    AC-TR  \n",
       "3       40179510.00  32321790.00  40179510.00    NaN   FINAL  2010/11    AC-TR  \n",
       "4       15750000.00  13644000.00  15750000.00    NaN   FINAL  2010/11    AC-TR  \n",
       "5      107758350.00 106348680.00 107758350.00    NaN   FINAL  2010/11    AC-TR  \n",
       "\n",
       "[5 rows x 31 columns]"
      ]
     },
     "execution_count": 7,
     "metadata": {},
     "output_type": "execute_result"
    }
   ],
   "source": [
    "# Visualiza\n",
    "dados.head()"
   ]
  },
  {
   "cell_type": "code",
   "execution_count": 8,
   "metadata": {},
   "outputs": [
    {
     "name": "stdout",
     "output_type": "stream",
     "text": [
      "Linhas:  1070994\n",
      "Colunas:  31\n",
      "\n",
      "Variáveis: \n",
      " ['BBLE', 'B', 'BLOCK', 'LOT', 'EASEMENT', 'OWNER', 'BLDGCL', 'TAXCLASS', 'LTFRONT', 'LTDEPTH', 'EXT', 'STORIES', 'FULLVAL', 'AVLAND', 'AVTOT', 'EXLAND', 'EXTOT', 'EXCD1', 'STADDR', 'ZIP', 'EXMPTCL', 'BLDFRONT', 'BLDDEPTH', 'AVLAND2', 'AVTOT2', 'EXLAND2', 'EXTOT2', 'EXCD2', 'PERIOD', 'YEAR', 'VALTYPE']\n",
      "\n",
      "Valores Ausentes: \n",
      " BBLE              0\n",
      "B                 0\n",
      "BLOCK             0\n",
      "LOT               0\n",
      "EASEMENT    1066358\n",
      "OWNER         31745\n",
      "BLDGCL            0\n",
      "TAXCLASS          0\n",
      "LTFRONT           0\n",
      "LTDEPTH           0\n",
      "EXT          716689\n",
      "STORIES       56264\n",
      "FULLVAL           0\n",
      "AVLAND            0\n",
      "AVTOT             0\n",
      "EXLAND            0\n",
      "EXTOT             0\n",
      "EXCD1        432506\n",
      "STADDR          676\n",
      "ZIP           29890\n",
      "EXMPTCL     1055415\n",
      "BLDFRONT          0\n",
      "BLDDEPTH          0\n",
      "AVLAND2      788268\n",
      "AVTOT2       788262\n",
      "EXLAND2      983545\n",
      "EXTOT2       940166\n",
      "EXCD2        978046\n",
      "PERIOD            0\n",
      "YEAR              0\n",
      "VALTYPE           0\n",
      "dtype: int64\n",
      "\n",
      "Valores Únicos: \n",
      " BBLE        1070994\n",
      "B                 5\n",
      "BLOCK         13984\n",
      "LOT            6366\n",
      "EASEMENT         12\n",
      "OWNER        863346\n",
      "BLDGCL          200\n",
      "TAXCLASS         11\n",
      "LTFRONT        1297\n",
      "LTDEPTH        1370\n",
      "EXT               3\n",
      "STORIES         111\n",
      "FULLVAL      109324\n",
      "AVLAND        70921\n",
      "AVTOT        112914\n",
      "EXLAND        33419\n",
      "EXTOT         64255\n",
      "EXCD1           129\n",
      "STADDR       839280\n",
      "ZIP             196\n",
      "EXMPTCL          14\n",
      "BLDFRONT        612\n",
      "BLDDEPTH        621\n",
      "AVLAND2       58591\n",
      "AVTOT2       111360\n",
      "EXLAND2       22195\n",
      "EXTOT2        48348\n",
      "EXCD2            60\n",
      "PERIOD            1\n",
      "YEAR              1\n",
      "VALTYPE           1\n",
      "dtype: int64\n"
     ]
    }
   ],
   "source": [
    "# Resumo\n",
    "print(\"Linhas: \", dados.shape[0])\n",
    "print(\"Colunas: \", dados.shape[1])\n",
    "print(\"\\nVariáveis: \\n\", dados.columns.tolist())\n",
    "print(\"\\nValores Ausentes: \\n\" , dados.isnull().sum())\n",
    "print(\"\\nValores Únicos: \\n\", dados.nunique())"
   ]
  },
  {
   "cell_type": "code",
   "execution_count": 9,
   "metadata": {},
   "outputs": [
    {
     "name": "stdout",
     "output_type": "stream",
     "text": [
      "<class 'pandas.core.frame.DataFrame'>\n",
      "Int64Index: 1070994 entries, 1 to 1070994\n",
      "Data columns (total 31 columns):\n",
      " #   Column    Non-Null Count    Dtype  \n",
      "---  ------    --------------    -----  \n",
      " 0   BBLE      1070994 non-null  object \n",
      " 1   B         1070994 non-null  int64  \n",
      " 2   BLOCK     1070994 non-null  int64  \n",
      " 3   LOT       1070994 non-null  int64  \n",
      " 4   EASEMENT  4636 non-null     object \n",
      " 5   OWNER     1039249 non-null  object \n",
      " 6   BLDGCL    1070994 non-null  object \n",
      " 7   TAXCLASS  1070994 non-null  object \n",
      " 8   LTFRONT   1070994 non-null  int64  \n",
      " 9   LTDEPTH   1070994 non-null  int64  \n",
      " 10  EXT       354305 non-null   object \n",
      " 11  STORIES   1014730 non-null  float64\n",
      " 12  FULLVAL   1070994 non-null  float64\n",
      " 13  AVLAND    1070994 non-null  float64\n",
      " 14  AVTOT     1070994 non-null  float64\n",
      " 15  EXLAND    1070994 non-null  float64\n",
      " 16  EXTOT     1070994 non-null  float64\n",
      " 17  EXCD1     638488 non-null   float64\n",
      " 18  STADDR    1070318 non-null  object \n",
      " 19  ZIP       1041104 non-null  float64\n",
      " 20  EXMPTCL   15579 non-null    object \n",
      " 21  BLDFRONT  1070994 non-null  int64  \n",
      " 22  BLDDEPTH  1070994 non-null  int64  \n",
      " 23  AVLAND2   282726 non-null   float64\n",
      " 24  AVTOT2    282732 non-null   float64\n",
      " 25  EXLAND2   87449 non-null    float64\n",
      " 26  EXTOT2    130828 non-null   float64\n",
      " 27  EXCD2     92948 non-null    float64\n",
      " 28  PERIOD    1070994 non-null  object \n",
      " 29  YEAR      1070994 non-null  object \n",
      " 30  VALTYPE   1070994 non-null  object \n",
      "dtypes: float64(13), int64(7), object(11)\n",
      "memory usage: 261.5+ MB\n"
     ]
    }
   ],
   "source": [
    "# Info\n",
    "dados.info()"
   ]
  },
  {
   "cell_type": "code",
   "execution_count": 10,
   "metadata": {},
   "outputs": [],
   "source": [
    "# Colunas numéricas (quantitativas)\n",
    "num_cols = ['LTFRONT', 'LTDEPTH', 'STORIES', 'FULLVAL', 'AVLAND', 'AVTOT', 'EXLAND', 'EXTOT', 'BLDFRONT', 'BLDDEPTH', \\\n",
    "            'AVLAND2', 'AVTOT2', 'EXLAND2', 'EXTOT2']"
   ]
  },
  {
   "cell_type": "code",
   "execution_count": 11,
   "metadata": {},
   "outputs": [],
   "source": [
    "# Colunas categóricas\n",
    "cat_cols = ['BBLE', 'B', 'BLOCK', 'LOT', 'EASEMENT', 'OWNER', 'BLDGCL', 'TAXCLASS', 'EXT', 'EXCD1', 'STADDR', 'ZIP',\\\n",
    "            'EXMPTCL', 'EXCD2', 'PERIOD', 'YEAR', 'VALTYPE']"
   ]
  },
  {
   "cell_type": "code",
   "execution_count": 12,
   "metadata": {},
   "outputs": [
    {
     "data": {
      "text/plain": [
       "True"
      ]
     },
     "execution_count": 12,
     "metadata": {},
     "output_type": "execute_result"
    }
   ],
   "source": [
    "# Verifica se o total de variáveis está coberto nos objetos anteriores\n",
    "len(num_cols) + len(cat_cols) == 31"
   ]
  },
  {
   "cell_type": "code",
   "execution_count": 13,
   "metadata": {},
   "outputs": [],
   "source": [
    "# Dataframes com os tipos diferentes de variáveis\n",
    "df_num = dados[num_cols]\n",
    "df_cat = dados[cat_cols]"
   ]
  },
  {
   "cell_type": "code",
   "execution_count": 14,
   "metadata": {},
   "outputs": [
    {
     "data": {
      "text/html": [
       "<div>\n",
       "<style scoped>\n",
       "    .dataframe tbody tr th:only-of-type {\n",
       "        vertical-align: middle;\n",
       "    }\n",
       "\n",
       "    .dataframe tbody tr th {\n",
       "        vertical-align: top;\n",
       "    }\n",
       "\n",
       "    .dataframe thead th {\n",
       "        text-align: right;\n",
       "    }\n",
       "</style>\n",
       "<table border=\"1\" class=\"dataframe\">\n",
       "  <thead>\n",
       "    <tr style=\"text-align: right;\">\n",
       "      <th></th>\n",
       "      <th>Tipo de Dado</th>\n",
       "      <th># Registros Não Nulos</th>\n",
       "      <th># Registros Não Zero</th>\n",
       "      <th>% Populado</th>\n",
       "      <th># Valores Únicos</th>\n",
       "      <th>Mean</th>\n",
       "      <th>Std</th>\n",
       "      <th>Min</th>\n",
       "      <th>Max</th>\n",
       "    </tr>\n",
       "  </thead>\n",
       "  <tbody>\n",
       "    <tr>\n",
       "      <th>LTFRONT</th>\n",
       "      <td>int64</td>\n",
       "      <td>1070994</td>\n",
       "      <td>901886</td>\n",
       "      <td>100.00</td>\n",
       "      <td>1297</td>\n",
       "      <td>36.64</td>\n",
       "      <td>74.03</td>\n",
       "      <td>0.00</td>\n",
       "      <td>9999.00</td>\n",
       "    </tr>\n",
       "    <tr>\n",
       "      <th>LTDEPTH</th>\n",
       "      <td>int64</td>\n",
       "      <td>1070994</td>\n",
       "      <td>900866</td>\n",
       "      <td>100.00</td>\n",
       "      <td>1370</td>\n",
       "      <td>88.86</td>\n",
       "      <td>76.40</td>\n",
       "      <td>0.00</td>\n",
       "      <td>9999.00</td>\n",
       "    </tr>\n",
       "    <tr>\n",
       "      <th>STORIES</th>\n",
       "      <td>float64</td>\n",
       "      <td>1014730</td>\n",
       "      <td>1070994</td>\n",
       "      <td>94.75</td>\n",
       "      <td>111</td>\n",
       "      <td>5.01</td>\n",
       "      <td>8.37</td>\n",
       "      <td>1.00</td>\n",
       "      <td>119.00</td>\n",
       "    </tr>\n",
       "    <tr>\n",
       "      <th>FULLVAL</th>\n",
       "      <td>float64</td>\n",
       "      <td>1070994</td>\n",
       "      <td>1057987</td>\n",
       "      <td>100.00</td>\n",
       "      <td>109324</td>\n",
       "      <td>874264.51</td>\n",
       "      <td>11582430.99</td>\n",
       "      <td>0.00</td>\n",
       "      <td>6150000000.00</td>\n",
       "    </tr>\n",
       "    <tr>\n",
       "      <th>AVLAND</th>\n",
       "      <td>float64</td>\n",
       "      <td>1070994</td>\n",
       "      <td>1057985</td>\n",
       "      <td>100.00</td>\n",
       "      <td>70921</td>\n",
       "      <td>85067.92</td>\n",
       "      <td>4057260.06</td>\n",
       "      <td>0.00</td>\n",
       "      <td>2668500000.00</td>\n",
       "    </tr>\n",
       "    <tr>\n",
       "      <th>AVTOT</th>\n",
       "      <td>float64</td>\n",
       "      <td>1070994</td>\n",
       "      <td>1057987</td>\n",
       "      <td>100.00</td>\n",
       "      <td>112914</td>\n",
       "      <td>227238.17</td>\n",
       "      <td>6877529.31</td>\n",
       "      <td>0.00</td>\n",
       "      <td>4668308947.00</td>\n",
       "    </tr>\n",
       "    <tr>\n",
       "      <th>EXLAND</th>\n",
       "      <td>float64</td>\n",
       "      <td>1070994</td>\n",
       "      <td>579295</td>\n",
       "      <td>100.00</td>\n",
       "      <td>33419</td>\n",
       "      <td>36423.89</td>\n",
       "      <td>3981575.79</td>\n",
       "      <td>0.00</td>\n",
       "      <td>2668500000.00</td>\n",
       "    </tr>\n",
       "    <tr>\n",
       "      <th>EXTOT</th>\n",
       "      <td>float64</td>\n",
       "      <td>1070994</td>\n",
       "      <td>638422</td>\n",
       "      <td>100.00</td>\n",
       "      <td>64255</td>\n",
       "      <td>91186.98</td>\n",
       "      <td>6508402.82</td>\n",
       "      <td>0.00</td>\n",
       "      <td>4668308947.00</td>\n",
       "    </tr>\n",
       "    <tr>\n",
       "      <th>BLDFRONT</th>\n",
       "      <td>int64</td>\n",
       "      <td>1070994</td>\n",
       "      <td>842179</td>\n",
       "      <td>100.00</td>\n",
       "      <td>612</td>\n",
       "      <td>23.04</td>\n",
       "      <td>35.58</td>\n",
       "      <td>0.00</td>\n",
       "      <td>7575.00</td>\n",
       "    </tr>\n",
       "    <tr>\n",
       "      <th>BLDDEPTH</th>\n",
       "      <td>int64</td>\n",
       "      <td>1070994</td>\n",
       "      <td>842141</td>\n",
       "      <td>100.00</td>\n",
       "      <td>621</td>\n",
       "      <td>39.92</td>\n",
       "      <td>42.71</td>\n",
       "      <td>0.00</td>\n",
       "      <td>9393.00</td>\n",
       "    </tr>\n",
       "    <tr>\n",
       "      <th>AVLAND2</th>\n",
       "      <td>float64</td>\n",
       "      <td>282726</td>\n",
       "      <td>1070994</td>\n",
       "      <td>26.40</td>\n",
       "      <td>58591</td>\n",
       "      <td>246235.72</td>\n",
       "      <td>6178962.56</td>\n",
       "      <td>3.00</td>\n",
       "      <td>2371005000.00</td>\n",
       "    </tr>\n",
       "    <tr>\n",
       "      <th>AVTOT2</th>\n",
       "      <td>float64</td>\n",
       "      <td>282732</td>\n",
       "      <td>1070994</td>\n",
       "      <td>26.40</td>\n",
       "      <td>111360</td>\n",
       "      <td>713911.44</td>\n",
       "      <td>11652528.95</td>\n",
       "      <td>3.00</td>\n",
       "      <td>4501180002.00</td>\n",
       "    </tr>\n",
       "    <tr>\n",
       "      <th>EXLAND2</th>\n",
       "      <td>float64</td>\n",
       "      <td>87449</td>\n",
       "      <td>1070994</td>\n",
       "      <td>8.17</td>\n",
       "      <td>22195</td>\n",
       "      <td>351235.68</td>\n",
       "      <td>10802212.67</td>\n",
       "      <td>1.00</td>\n",
       "      <td>2371005000.00</td>\n",
       "    </tr>\n",
       "    <tr>\n",
       "      <th>EXTOT2</th>\n",
       "      <td>float64</td>\n",
       "      <td>130828</td>\n",
       "      <td>1070994</td>\n",
       "      <td>12.22</td>\n",
       "      <td>48348</td>\n",
       "      <td>656768.28</td>\n",
       "      <td>16072510.17</td>\n",
       "      <td>7.00</td>\n",
       "      <td>4501180002.00</td>\n",
       "    </tr>\n",
       "  </tbody>\n",
       "</table>\n",
       "</div>"
      ],
      "text/plain": [
       "         Tipo de Dado  # Registros Não Nulos  # Registros Não Zero  \\\n",
       "LTFRONT         int64                1070994                901886   \n",
       "LTDEPTH         int64                1070994                900866   \n",
       "STORIES       float64                1014730               1070994   \n",
       "FULLVAL       float64                1070994               1057987   \n",
       "AVLAND        float64                1070994               1057985   \n",
       "AVTOT         float64                1070994               1057987   \n",
       "EXLAND        float64                1070994                579295   \n",
       "EXTOT         float64                1070994                638422   \n",
       "BLDFRONT        int64                1070994                842179   \n",
       "BLDDEPTH        int64                1070994                842141   \n",
       "AVLAND2       float64                 282726               1070994   \n",
       "AVTOT2        float64                 282732               1070994   \n",
       "EXLAND2       float64                  87449               1070994   \n",
       "EXTOT2        float64                 130828               1070994   \n",
       "\n",
       "          % Populado  # Valores Únicos      Mean         Std  Min  \\\n",
       "LTFRONT       100.00              1297     36.64       74.03 0.00   \n",
       "LTDEPTH       100.00              1370     88.86       76.40 0.00   \n",
       "STORIES        94.75               111      5.01        8.37 1.00   \n",
       "FULLVAL       100.00            109324 874264.51 11582430.99 0.00   \n",
       "AVLAND        100.00             70921  85067.92  4057260.06 0.00   \n",
       "AVTOT         100.00            112914 227238.17  6877529.31 0.00   \n",
       "EXLAND        100.00             33419  36423.89  3981575.79 0.00   \n",
       "EXTOT         100.00             64255  91186.98  6508402.82 0.00   \n",
       "BLDFRONT      100.00               612     23.04       35.58 0.00   \n",
       "BLDDEPTH      100.00               621     39.92       42.71 0.00   \n",
       "AVLAND2        26.40             58591 246235.72  6178962.56 3.00   \n",
       "AVTOT2         26.40            111360 713911.44 11652528.95 3.00   \n",
       "EXLAND2         8.17             22195 351235.68 10802212.67 1.00   \n",
       "EXTOT2         12.22             48348 656768.28 16072510.17 7.00   \n",
       "\n",
       "                   Max  \n",
       "LTFRONT        9999.00  \n",
       "LTDEPTH        9999.00  \n",
       "STORIES         119.00  \n",
       "FULLVAL  6150000000.00  \n",
       "AVLAND   2668500000.00  \n",
       "AVTOT    4668308947.00  \n",
       "EXLAND   2668500000.00  \n",
       "EXTOT    4668308947.00  \n",
       "BLDFRONT       7575.00  \n",
       "BLDDEPTH       9393.00  \n",
       "AVLAND2  2371005000.00  \n",
       "AVTOT2   4501180002.00  \n",
       "EXLAND2  2371005000.00  \n",
       "EXTOT2   4501180002.00  "
      ]
     },
     "execution_count": 14,
     "metadata": {},
     "output_type": "execute_result"
    }
   ],
   "source": [
    "# Sumário estatístico das variáveis numéricas\n",
    "summ_num = pd.DataFrame(index = df_num.columns)\n",
    "summ_num['Tipo de Dado'] = df_num.dtypes.values\n",
    "summ_num['# Registros Não Nulos'] = df_num.count().values\n",
    "summ_num['# Registros Não Zero'] = df_num.astype(bool).sum(axis = 0)\n",
    "summ_num['% Populado'] = round(summ_num['# Registros Não Nulos'] / df_num.shape[0]*100,2)\n",
    "summ_num['# Valores Únicos'] = df_num.nunique().values\n",
    "summ_num['Mean'] = round(df_num.mean(),2)\n",
    "summ_num['Std'] = round(df_num.std(),2)\n",
    "summ_num['Min'] = round(df_num.min(),2)\n",
    "summ_num['Max'] = round(df_num.max(),2)\n",
    "summ_num"
   ]
  },
  {
   "cell_type": "code",
   "execution_count": 15,
   "metadata": {},
   "outputs": [],
   "source": [
    "# Sumário estatístico das variáveis categóricas\n",
    "summ_cat = pd.DataFrame(index = df_cat.columns)\n",
    "summ_cat['Tipo de Dado'] = df_cat.dtypes.values\n",
    "summ_cat['# Registros Não Nulos'] = df_cat.count().values\n",
    "summ_cat['% Populado'] = round(summ_cat['# Registros Não Nulos'] / df_cat.shape[0]*100,2)\n",
    "summ_cat['# Valores Únicos'] = df_cat.nunique().values"
   ]
  },
  {
   "cell_type": "code",
   "execution_count": 16,
   "metadata": {},
   "outputs": [],
   "source": [
    "# Adiciona mais uma coluna com valores mais comuns\n",
    "temp = []\n",
    "for col in cat_cols:\n",
    "    temp.append(df_cat[col].value_counts().idxmax())\n",
    "summ_cat['Valores Mais Comuns'] = temp"
   ]
  },
  {
   "cell_type": "code",
   "execution_count": 17,
   "metadata": {},
   "outputs": [
    {
     "data": {
      "text/html": [
       "<div>\n",
       "<style scoped>\n",
       "    .dataframe tbody tr th:only-of-type {\n",
       "        vertical-align: middle;\n",
       "    }\n",
       "\n",
       "    .dataframe tbody tr th {\n",
       "        vertical-align: top;\n",
       "    }\n",
       "\n",
       "    .dataframe thead th {\n",
       "        text-align: right;\n",
       "    }\n",
       "</style>\n",
       "<table border=\"1\" class=\"dataframe\">\n",
       "  <thead>\n",
       "    <tr style=\"text-align: right;\">\n",
       "      <th></th>\n",
       "      <th>Tipo de Dado</th>\n",
       "      <th># Registros Não Nulos</th>\n",
       "      <th>% Populado</th>\n",
       "      <th># Valores Únicos</th>\n",
       "      <th>Valores Mais Comuns</th>\n",
       "    </tr>\n",
       "  </thead>\n",
       "  <tbody>\n",
       "    <tr>\n",
       "      <th>BBLE</th>\n",
       "      <td>object</td>\n",
       "      <td>1070994</td>\n",
       "      <td>100.00</td>\n",
       "      <td>1070994</td>\n",
       "      <td>1000010101</td>\n",
       "    </tr>\n",
       "    <tr>\n",
       "      <th>B</th>\n",
       "      <td>int64</td>\n",
       "      <td>1070994</td>\n",
       "      <td>100.00</td>\n",
       "      <td>5</td>\n",
       "      <td>4</td>\n",
       "    </tr>\n",
       "    <tr>\n",
       "      <th>BLOCK</th>\n",
       "      <td>int64</td>\n",
       "      <td>1070994</td>\n",
       "      <td>100.00</td>\n",
       "      <td>13984</td>\n",
       "      <td>3944</td>\n",
       "    </tr>\n",
       "    <tr>\n",
       "      <th>LOT</th>\n",
       "      <td>int64</td>\n",
       "      <td>1070994</td>\n",
       "      <td>100.00</td>\n",
       "      <td>6366</td>\n",
       "      <td>1</td>\n",
       "    </tr>\n",
       "    <tr>\n",
       "      <th>EASEMENT</th>\n",
       "      <td>object</td>\n",
       "      <td>4636</td>\n",
       "      <td>0.43</td>\n",
       "      <td>12</td>\n",
       "      <td>E</td>\n",
       "    </tr>\n",
       "    <tr>\n",
       "      <th>OWNER</th>\n",
       "      <td>object</td>\n",
       "      <td>1039249</td>\n",
       "      <td>97.04</td>\n",
       "      <td>863346</td>\n",
       "      <td>PARKCHESTER PRESERVAT</td>\n",
       "    </tr>\n",
       "    <tr>\n",
       "      <th>BLDGCL</th>\n",
       "      <td>object</td>\n",
       "      <td>1070994</td>\n",
       "      <td>100.00</td>\n",
       "      <td>200</td>\n",
       "      <td>R4</td>\n",
       "    </tr>\n",
       "    <tr>\n",
       "      <th>TAXCLASS</th>\n",
       "      <td>object</td>\n",
       "      <td>1070994</td>\n",
       "      <td>100.00</td>\n",
       "      <td>11</td>\n",
       "      <td>1</td>\n",
       "    </tr>\n",
       "    <tr>\n",
       "      <th>EXT</th>\n",
       "      <td>object</td>\n",
       "      <td>354305</td>\n",
       "      <td>33.08</td>\n",
       "      <td>3</td>\n",
       "      <td>G</td>\n",
       "    </tr>\n",
       "    <tr>\n",
       "      <th>EXCD1</th>\n",
       "      <td>float64</td>\n",
       "      <td>638488</td>\n",
       "      <td>59.62</td>\n",
       "      <td>129</td>\n",
       "      <td>1017.00</td>\n",
       "    </tr>\n",
       "    <tr>\n",
       "      <th>STADDR</th>\n",
       "      <td>object</td>\n",
       "      <td>1070318</td>\n",
       "      <td>99.94</td>\n",
       "      <td>839280</td>\n",
       "      <td>501 SURF AVENUE</td>\n",
       "    </tr>\n",
       "    <tr>\n",
       "      <th>ZIP</th>\n",
       "      <td>float64</td>\n",
       "      <td>1041104</td>\n",
       "      <td>97.21</td>\n",
       "      <td>196</td>\n",
       "      <td>10314.00</td>\n",
       "    </tr>\n",
       "    <tr>\n",
       "      <th>EXMPTCL</th>\n",
       "      <td>object</td>\n",
       "      <td>15579</td>\n",
       "      <td>1.45</td>\n",
       "      <td>14</td>\n",
       "      <td>X1</td>\n",
       "    </tr>\n",
       "    <tr>\n",
       "      <th>EXCD2</th>\n",
       "      <td>float64</td>\n",
       "      <td>92948</td>\n",
       "      <td>8.68</td>\n",
       "      <td>60</td>\n",
       "      <td>1017.00</td>\n",
       "    </tr>\n",
       "    <tr>\n",
       "      <th>PERIOD</th>\n",
       "      <td>object</td>\n",
       "      <td>1070994</td>\n",
       "      <td>100.00</td>\n",
       "      <td>1</td>\n",
       "      <td>FINAL</td>\n",
       "    </tr>\n",
       "    <tr>\n",
       "      <th>YEAR</th>\n",
       "      <td>object</td>\n",
       "      <td>1070994</td>\n",
       "      <td>100.00</td>\n",
       "      <td>1</td>\n",
       "      <td>2010/11</td>\n",
       "    </tr>\n",
       "    <tr>\n",
       "      <th>VALTYPE</th>\n",
       "      <td>object</td>\n",
       "      <td>1070994</td>\n",
       "      <td>100.00</td>\n",
       "      <td>1</td>\n",
       "      <td>AC-TR</td>\n",
       "    </tr>\n",
       "  </tbody>\n",
       "</table>\n",
       "</div>"
      ],
      "text/plain": [
       "         Tipo de Dado  # Registros Não Nulos  % Populado  # Valores Únicos  \\\n",
       "BBLE           object                1070994      100.00           1070994   \n",
       "B               int64                1070994      100.00                 5   \n",
       "BLOCK           int64                1070994      100.00             13984   \n",
       "LOT             int64                1070994      100.00              6366   \n",
       "EASEMENT       object                   4636        0.43                12   \n",
       "OWNER          object                1039249       97.04            863346   \n",
       "BLDGCL         object                1070994      100.00               200   \n",
       "TAXCLASS       object                1070994      100.00                11   \n",
       "EXT            object                 354305       33.08                 3   \n",
       "EXCD1         float64                 638488       59.62               129   \n",
       "STADDR         object                1070318       99.94            839280   \n",
       "ZIP           float64                1041104       97.21               196   \n",
       "EXMPTCL        object                  15579        1.45                14   \n",
       "EXCD2         float64                  92948        8.68                60   \n",
       "PERIOD         object                1070994      100.00                 1   \n",
       "YEAR           object                1070994      100.00                 1   \n",
       "VALTYPE        object                1070994      100.00                 1   \n",
       "\n",
       "            Valores Mais Comuns  \n",
       "BBLE                 1000010101  \n",
       "B                             4  \n",
       "BLOCK                      3944  \n",
       "LOT                           1  \n",
       "EASEMENT                      E  \n",
       "OWNER     PARKCHESTER PRESERVAT  \n",
       "BLDGCL                       R4  \n",
       "TAXCLASS                      1  \n",
       "EXT                           G  \n",
       "EXCD1                   1017.00  \n",
       "STADDR          501 SURF AVENUE  \n",
       "ZIP                    10314.00  \n",
       "EXMPTCL                      X1  \n",
       "EXCD2                   1017.00  \n",
       "PERIOD                    FINAL  \n",
       "YEAR                    2010/11  \n",
       "VALTYPE                   AC-TR  "
      ]
     },
     "execution_count": 17,
     "metadata": {},
     "output_type": "execute_result"
    }
   ],
   "source": [
    "summ_cat"
   ]
  },
  {
   "cell_type": "markdown",
   "metadata": {},
   "source": [
    "## Identificação, Exploração e Visualização das Variáveis"
   ]
  },
  {
   "cell_type": "code",
   "execution_count": 18,
   "metadata": {},
   "outputs": [
    {
     "data": {
      "text/plain": [
       "Index(['BBLE', 'B', 'BLOCK', 'LOT', 'EASEMENT', 'OWNER', 'BLDGCL', 'TAXCLASS',\n",
       "       'LTFRONT', 'LTDEPTH', 'EXT', 'STORIES', 'FULLVAL', 'AVLAND', 'AVTOT',\n",
       "       'EXLAND', 'EXTOT', 'EXCD1', 'STADDR', 'ZIP', 'EXMPTCL', 'BLDFRONT',\n",
       "       'BLDDEPTH', 'AVLAND2', 'AVTOT2', 'EXLAND2', 'EXTOT2', 'EXCD2', 'PERIOD',\n",
       "       'YEAR', 'VALTYPE'],\n",
       "      dtype='object')"
      ]
     },
     "execution_count": 18,
     "metadata": {},
     "output_type": "execute_result"
    }
   ],
   "source": [
    "# Variáveis\n",
    "dados.columns"
   ]
  },
  {
   "cell_type": "code",
   "execution_count": 19,
   "metadata": {},
   "outputs": [
    {
     "data": {
      "text/html": [
       "<div>\n",
       "<style scoped>\n",
       "    .dataframe tbody tr th:only-of-type {\n",
       "        vertical-align: middle;\n",
       "    }\n",
       "\n",
       "    .dataframe tbody tr th {\n",
       "        vertical-align: top;\n",
       "    }\n",
       "\n",
       "    .dataframe thead th {\n",
       "        text-align: right;\n",
       "    }\n",
       "</style>\n",
       "<table border=\"1\" class=\"dataframe\">\n",
       "  <thead>\n",
       "    <tr style=\"text-align: right;\">\n",
       "      <th></th>\n",
       "      <th>BBLE</th>\n",
       "      <th>B</th>\n",
       "      <th>BLOCK</th>\n",
       "      <th>LOT</th>\n",
       "      <th>EASEMENT</th>\n",
       "      <th>OWNER</th>\n",
       "      <th>BLDGCL</th>\n",
       "      <th>TAXCLASS</th>\n",
       "      <th>LTFRONT</th>\n",
       "      <th>LTDEPTH</th>\n",
       "      <th>...</th>\n",
       "      <th>BLDFRONT</th>\n",
       "      <th>BLDDEPTH</th>\n",
       "      <th>AVLAND2</th>\n",
       "      <th>AVTOT2</th>\n",
       "      <th>EXLAND2</th>\n",
       "      <th>EXTOT2</th>\n",
       "      <th>EXCD2</th>\n",
       "      <th>PERIOD</th>\n",
       "      <th>YEAR</th>\n",
       "      <th>VALTYPE</th>\n",
       "    </tr>\n",
       "    <tr>\n",
       "      <th>RECORD</th>\n",
       "      <th></th>\n",
       "      <th></th>\n",
       "      <th></th>\n",
       "      <th></th>\n",
       "      <th></th>\n",
       "      <th></th>\n",
       "      <th></th>\n",
       "      <th></th>\n",
       "      <th></th>\n",
       "      <th></th>\n",
       "      <th></th>\n",
       "      <th></th>\n",
       "      <th></th>\n",
       "      <th></th>\n",
       "      <th></th>\n",
       "      <th></th>\n",
       "      <th></th>\n",
       "      <th></th>\n",
       "      <th></th>\n",
       "      <th></th>\n",
       "      <th></th>\n",
       "    </tr>\n",
       "  </thead>\n",
       "  <tbody>\n",
       "    <tr>\n",
       "      <th>1</th>\n",
       "      <td>1000010101</td>\n",
       "      <td>1</td>\n",
       "      <td>1</td>\n",
       "      <td>101</td>\n",
       "      <td>NaN</td>\n",
       "      <td>U S GOVT LAND &amp; BLDGS</td>\n",
       "      <td>P7</td>\n",
       "      <td>4</td>\n",
       "      <td>500</td>\n",
       "      <td>1046</td>\n",
       "      <td>...</td>\n",
       "      <td>0</td>\n",
       "      <td>0</td>\n",
       "      <td>3775500.00</td>\n",
       "      <td>8613000.00</td>\n",
       "      <td>3775500.00</td>\n",
       "      <td>8613000.00</td>\n",
       "      <td>NaN</td>\n",
       "      <td>FINAL</td>\n",
       "      <td>2010/11</td>\n",
       "      <td>AC-TR</td>\n",
       "    </tr>\n",
       "    <tr>\n",
       "      <th>2</th>\n",
       "      <td>1000010201</td>\n",
       "      <td>1</td>\n",
       "      <td>1</td>\n",
       "      <td>201</td>\n",
       "      <td>NaN</td>\n",
       "      <td>U S GOVT LAND &amp; BLDGS</td>\n",
       "      <td>Z9</td>\n",
       "      <td>4</td>\n",
       "      <td>27</td>\n",
       "      <td>0</td>\n",
       "      <td>...</td>\n",
       "      <td>0</td>\n",
       "      <td>0</td>\n",
       "      <td>11111400.00</td>\n",
       "      <td>80690400.00</td>\n",
       "      <td>11111400.00</td>\n",
       "      <td>80690400.00</td>\n",
       "      <td>NaN</td>\n",
       "      <td>FINAL</td>\n",
       "      <td>2010/11</td>\n",
       "      <td>AC-TR</td>\n",
       "    </tr>\n",
       "    <tr>\n",
       "      <th>3</th>\n",
       "      <td>1000020001</td>\n",
       "      <td>1</td>\n",
       "      <td>2</td>\n",
       "      <td>1</td>\n",
       "      <td>NaN</td>\n",
       "      <td>DEPT OF GENERAL SERVI</td>\n",
       "      <td>Y7</td>\n",
       "      <td>4</td>\n",
       "      <td>709</td>\n",
       "      <td>564</td>\n",
       "      <td>...</td>\n",
       "      <td>709</td>\n",
       "      <td>564</td>\n",
       "      <td>32321790.00</td>\n",
       "      <td>40179510.00</td>\n",
       "      <td>32321790.00</td>\n",
       "      <td>40179510.00</td>\n",
       "      <td>NaN</td>\n",
       "      <td>FINAL</td>\n",
       "      <td>2010/11</td>\n",
       "      <td>AC-TR</td>\n",
       "    </tr>\n",
       "    <tr>\n",
       "      <th>4</th>\n",
       "      <td>1000020023</td>\n",
       "      <td>1</td>\n",
       "      <td>2</td>\n",
       "      <td>23</td>\n",
       "      <td>NaN</td>\n",
       "      <td>DEPARTMENT OF BUSINES</td>\n",
       "      <td>T2</td>\n",
       "      <td>4</td>\n",
       "      <td>793</td>\n",
       "      <td>551</td>\n",
       "      <td>...</td>\n",
       "      <td>85</td>\n",
       "      <td>551</td>\n",
       "      <td>13644000.00</td>\n",
       "      <td>15750000.00</td>\n",
       "      <td>13644000.00</td>\n",
       "      <td>15750000.00</td>\n",
       "      <td>NaN</td>\n",
       "      <td>FINAL</td>\n",
       "      <td>2010/11</td>\n",
       "      <td>AC-TR</td>\n",
       "    </tr>\n",
       "    <tr>\n",
       "      <th>5</th>\n",
       "      <td>1000030001</td>\n",
       "      <td>1</td>\n",
       "      <td>3</td>\n",
       "      <td>1</td>\n",
       "      <td>NaN</td>\n",
       "      <td>PARKS AND RECREATION</td>\n",
       "      <td>Q1</td>\n",
       "      <td>4</td>\n",
       "      <td>323</td>\n",
       "      <td>1260</td>\n",
       "      <td>...</td>\n",
       "      <td>89</td>\n",
       "      <td>57</td>\n",
       "      <td>106348680.00</td>\n",
       "      <td>107758350.00</td>\n",
       "      <td>106348680.00</td>\n",
       "      <td>107758350.00</td>\n",
       "      <td>NaN</td>\n",
       "      <td>FINAL</td>\n",
       "      <td>2010/11</td>\n",
       "      <td>AC-TR</td>\n",
       "    </tr>\n",
       "  </tbody>\n",
       "</table>\n",
       "<p>5 rows × 31 columns</p>\n",
       "</div>"
      ],
      "text/plain": [
       "              BBLE  B  BLOCK  LOT EASEMENT                  OWNER BLDGCL  \\\n",
       "RECORD                                                                     \n",
       "1       1000010101  1      1  101      NaN  U S GOVT LAND & BLDGS     P7   \n",
       "2       1000010201  1      1  201      NaN  U S GOVT LAND & BLDGS     Z9   \n",
       "3       1000020001  1      2    1      NaN  DEPT OF GENERAL SERVI     Y7   \n",
       "4       1000020023  1      2   23      NaN  DEPARTMENT OF BUSINES     T2   \n",
       "5       1000030001  1      3    1      NaN   PARKS AND RECREATION     Q1   \n",
       "\n",
       "       TAXCLASS  LTFRONT  LTDEPTH  ... BLDFRONT  BLDDEPTH      AVLAND2  \\\n",
       "RECORD                             ...                                   \n",
       "1             4      500     1046  ...        0         0   3775500.00   \n",
       "2             4       27        0  ...        0         0  11111400.00   \n",
       "3             4      709      564  ...      709       564  32321790.00   \n",
       "4             4      793      551  ...       85       551  13644000.00   \n",
       "5             4      323     1260  ...       89        57 106348680.00   \n",
       "\n",
       "             AVTOT2      EXLAND2       EXTOT2  EXCD2  PERIOD     YEAR  VALTYPE  \n",
       "RECORD                                                                          \n",
       "1        8613000.00   3775500.00   8613000.00    NaN   FINAL  2010/11    AC-TR  \n",
       "2       80690400.00  11111400.00  80690400.00    NaN   FINAL  2010/11    AC-TR  \n",
       "3       40179510.00  32321790.00  40179510.00    NaN   FINAL  2010/11    AC-TR  \n",
       "4       15750000.00  13644000.00  15750000.00    NaN   FINAL  2010/11    AC-TR  \n",
       "5      107758350.00 106348680.00 107758350.00    NaN   FINAL  2010/11    AC-TR  \n",
       "\n",
       "[5 rows x 31 columns]"
      ]
     },
     "execution_count": 19,
     "metadata": {},
     "output_type": "execute_result"
    }
   ],
   "source": [
    "# Visualiza\n",
    "dados.head()"
   ]
  },
  {
   "cell_type": "markdown",
   "metadata": {},
   "source": [
    "**Variável 1** \\\n",
    "Nome da Variável: BBLE \\\n",
    "Descrição: Concatenação de código Borough, código de bloco, código LOT; um número exclusivo para cada registro."
   ]
  },
  {
   "cell_type": "markdown",
   "metadata": {},
   "source": [
    "**Variável 2** \\\n",
    "Nome da Variável: B \\\n",
    "Descrição: Códigos Borough "
   ]
  },
  {
   "cell_type": "code",
   "execution_count": 20,
   "metadata": {},
   "outputs": [
    {
     "data": {
      "text/plain": [
       "Text(0.5, 1.0, 'Número de Propriedades em Diferentes Bairros')"
      ]
     },
     "execution_count": 20,
     "metadata": {},
     "output_type": "execute_result"
    },
    {
     "data": {
      "image/png": "[encoded data removed]",
      "text/plain": [
       "<Figure size 1200x600 with 1 Axes>"
      ]
     },
     "metadata": {},
     "output_type": "display_data"
    }
   ],
   "source": [
    "# Visualização da variável 2\n",
    "sns.set_theme(style = 'whitegrid')\n",
    "plt.figure(figsize = (12, 6))\n",
    "fig1 = sns.countplot(x = 'B', data = dados, order = dados['B'].value_counts().index)\n",
    "plt.title(\"Número de Propriedades em Diferentes Bairros\")"
   ]
  },
  {
   "cell_type": "markdown",
   "metadata": {},
   "source": [
    "**Variável 3** \\\n",
    "Nome da Variável: BLOCK \\\n",
    "Descrição: Número de até 5 dígitos que representam códigos de bloco em diferentes bairros"
   ]
  },
  {
   "cell_type": "code",
   "execution_count": 21,
   "metadata": {},
   "outputs": [
    {
     "data": {
      "text/html": [
       "<div>\n",
       "<style scoped>\n",
       "    .dataframe tbody tr th:only-of-type {\n",
       "        vertical-align: middle;\n",
       "    }\n",
       "\n",
       "    .dataframe tbody tr th {\n",
       "        vertical-align: top;\n",
       "    }\n",
       "\n",
       "    .dataframe thead th {\n",
       "        text-align: right;\n",
       "    }\n",
       "</style>\n",
       "<table border=\"1\" class=\"dataframe\">\n",
       "  <thead>\n",
       "    <tr style=\"text-align: right;\">\n",
       "      <th></th>\n",
       "      <th>Unique_values_BLOCK</th>\n",
       "      <th>Counts</th>\n",
       "    </tr>\n",
       "  </thead>\n",
       "  <tbody>\n",
       "    <tr>\n",
       "      <th>0</th>\n",
       "      <td>3944</td>\n",
       "      <td>3888</td>\n",
       "    </tr>\n",
       "    <tr>\n",
       "      <th>1</th>\n",
       "      <td>16</td>\n",
       "      <td>3786</td>\n",
       "    </tr>\n",
       "    <tr>\n",
       "      <th>2</th>\n",
       "      <td>3943</td>\n",
       "      <td>3424</td>\n",
       "    </tr>\n",
       "    <tr>\n",
       "      <th>3</th>\n",
       "      <td>3938</td>\n",
       "      <td>2794</td>\n",
       "    </tr>\n",
       "    <tr>\n",
       "      <th>4</th>\n",
       "      <td>1171</td>\n",
       "      <td>2535</td>\n",
       "    </tr>\n",
       "    <tr>\n",
       "      <th>5</th>\n",
       "      <td>3937</td>\n",
       "      <td>2275</td>\n",
       "    </tr>\n",
       "    <tr>\n",
       "      <th>6</th>\n",
       "      <td>1833</td>\n",
       "      <td>1774</td>\n",
       "    </tr>\n",
       "    <tr>\n",
       "      <th>7</th>\n",
       "      <td>2450</td>\n",
       "      <td>1651</td>\n",
       "    </tr>\n",
       "    <tr>\n",
       "      <th>8</th>\n",
       "      <td>1047</td>\n",
       "      <td>1480</td>\n",
       "    </tr>\n",
       "    <tr>\n",
       "      <th>9</th>\n",
       "      <td>7279</td>\n",
       "      <td>1302</td>\n",
       "    </tr>\n",
       "    <tr>\n",
       "      <th>10</th>\n",
       "      <td>5893</td>\n",
       "      <td>1295</td>\n",
       "    </tr>\n",
       "    <tr>\n",
       "      <th>11</th>\n",
       "      <td>8720</td>\n",
       "      <td>1281</td>\n",
       "    </tr>\n",
       "    <tr>\n",
       "      <th>12</th>\n",
       "      <td>936</td>\n",
       "      <td>1151</td>\n",
       "    </tr>\n",
       "    <tr>\n",
       "      <th>13</th>\n",
       "      <td>1115</td>\n",
       "      <td>1090</td>\n",
       "    </tr>\n",
       "    <tr>\n",
       "      <th>14</th>\n",
       "      <td>1320</td>\n",
       "      <td>1049</td>\n",
       "    </tr>\n",
       "  </tbody>\n",
       "</table>\n",
       "</div>"
      ],
      "text/plain": [
       "    Unique_values_BLOCK  Counts\n",
       "0                  3944    3888\n",
       "1                    16    3786\n",
       "2                  3943    3424\n",
       "3                  3938    2794\n",
       "4                  1171    2535\n",
       "5                  3937    2275\n",
       "6                  1833    1774\n",
       "7                  2450    1651\n",
       "8                  1047    1480\n",
       "9                  7279    1302\n",
       "10                 5893    1295\n",
       "11                 8720    1281\n",
       "12                  936    1151\n",
       "13                 1115    1090\n",
       "14                 1320    1049"
      ]
     },
     "execution_count": 21,
     "metadata": {},
     "output_type": "execute_result"
    }
   ],
   "source": [
    "# Contagem\n",
    "BLOCK = df_cat['BLOCK'].value_counts().rename_axis('Unique_values_BLOCK').reset_index(name = 'Counts')\n",
    "BLOCK[:15]"
   ]
  },
  {
   "cell_type": "markdown",
   "metadata": {},
   "source": [
    "**Variável 4** \\\n",
    "Nome da Variável: LOT \\\n",
    "Descrição: Número de até 4 dígitos que representam códigos de lote em diferentes Borough & Block"
   ]
  },
  {
   "cell_type": "code",
   "execution_count": 22,
   "metadata": {},
   "outputs": [
    {
     "data": {
      "text/html": [
       "<div>\n",
       "<style scoped>\n",
       "    .dataframe tbody tr th:only-of-type {\n",
       "        vertical-align: middle;\n",
       "    }\n",
       "\n",
       "    .dataframe tbody tr th {\n",
       "        vertical-align: top;\n",
       "    }\n",
       "\n",
       "    .dataframe thead th {\n",
       "        text-align: right;\n",
       "    }\n",
       "</style>\n",
       "<table border=\"1\" class=\"dataframe\">\n",
       "  <thead>\n",
       "    <tr style=\"text-align: right;\">\n",
       "      <th></th>\n",
       "      <th>Unique_values_LOT</th>\n",
       "      <th>Counts</th>\n",
       "    </tr>\n",
       "  </thead>\n",
       "  <tbody>\n",
       "    <tr>\n",
       "      <th>0</th>\n",
       "      <td>1</td>\n",
       "      <td>24367</td>\n",
       "    </tr>\n",
       "    <tr>\n",
       "      <th>1</th>\n",
       "      <td>20</td>\n",
       "      <td>12294</td>\n",
       "    </tr>\n",
       "    <tr>\n",
       "      <th>2</th>\n",
       "      <td>15</td>\n",
       "      <td>12171</td>\n",
       "    </tr>\n",
       "    <tr>\n",
       "      <th>3</th>\n",
       "      <td>12</td>\n",
       "      <td>12143</td>\n",
       "    </tr>\n",
       "    <tr>\n",
       "      <th>4</th>\n",
       "      <td>14</td>\n",
       "      <td>12074</td>\n",
       "    </tr>\n",
       "    <tr>\n",
       "      <th>5</th>\n",
       "      <td>16</td>\n",
       "      <td>12042</td>\n",
       "    </tr>\n",
       "    <tr>\n",
       "      <th>6</th>\n",
       "      <td>17</td>\n",
       "      <td>11982</td>\n",
       "    </tr>\n",
       "    <tr>\n",
       "      <th>7</th>\n",
       "      <td>18</td>\n",
       "      <td>11979</td>\n",
       "    </tr>\n",
       "    <tr>\n",
       "      <th>8</th>\n",
       "      <td>25</td>\n",
       "      <td>11949</td>\n",
       "    </tr>\n",
       "    <tr>\n",
       "      <th>9</th>\n",
       "      <td>21</td>\n",
       "      <td>11840</td>\n",
       "    </tr>\n",
       "    <tr>\n",
       "      <th>10</th>\n",
       "      <td>23</td>\n",
       "      <td>11705</td>\n",
       "    </tr>\n",
       "    <tr>\n",
       "      <th>11</th>\n",
       "      <td>22</td>\n",
       "      <td>11665</td>\n",
       "    </tr>\n",
       "    <tr>\n",
       "      <th>12</th>\n",
       "      <td>6</td>\n",
       "      <td>11646</td>\n",
       "    </tr>\n",
       "    <tr>\n",
       "      <th>13</th>\n",
       "      <td>19</td>\n",
       "      <td>11640</td>\n",
       "    </tr>\n",
       "    <tr>\n",
       "      <th>14</th>\n",
       "      <td>30</td>\n",
       "      <td>11596</td>\n",
       "    </tr>\n",
       "  </tbody>\n",
       "</table>\n",
       "</div>"
      ],
      "text/plain": [
       "    Unique_values_LOT  Counts\n",
       "0                   1   24367\n",
       "1                  20   12294\n",
       "2                  15   12171\n",
       "3                  12   12143\n",
       "4                  14   12074\n",
       "5                  16   12042\n",
       "6                  17   11982\n",
       "7                  18   11979\n",
       "8                  25   11949\n",
       "9                  21   11840\n",
       "10                 23   11705\n",
       "11                 22   11665\n",
       "12                  6   11646\n",
       "13                 19   11640\n",
       "14                 30   11596"
      ]
     },
     "execution_count": 22,
     "metadata": {},
     "output_type": "execute_result"
    }
   ],
   "source": [
    "# Contagem\n",
    "LOT = df_cat['LOT'].value_counts().rename_axis('Unique_values_LOT').reset_index(name = 'Counts')[:15]\n",
    "LOT[:15]"
   ]
  },
  {
   "cell_type": "markdown",
   "metadata": {},
   "source": [
    "**Variável 5** \\\n",
    "Nome da Variável: EASEMENT  \\\n",
    "Descrição: Tipos de easement"
   ]
  },
  {
   "cell_type": "code",
   "execution_count": 23,
   "metadata": {},
   "outputs": [
    {
     "data": {
      "text/plain": [
       "Text(0.5, 1.0, 'Quantidade de Imóveis com Diversos Tipos de Easement')"
      ]
     },
     "execution_count": 23,
     "metadata": {},
     "output_type": "execute_result"
    },
    {
     "data": {
      "image/png": "[encoded data removed]",
      "text/plain": [
       "<Figure size 1200x600 with 1 Axes>"
      ]
     },
     "metadata": {},
     "output_type": "display_data"
    }
   ],
   "source": [
    "# Visualização da variável 5\n",
    "sns.set_theme(style = 'whitegrid')\n",
    "plt.figure(figsize = (12, 6))\n",
    "fig2 = sns.countplot(x = 'EASEMENT', data = dados, order = dados['EASEMENT'].value_counts().index)\n",
    "fig2.set_yscale(\"log\")\n",
    "fig2.set_title('Quantidade de Imóveis com Diversos Tipos de Easement')"
   ]
  },
  {
   "cell_type": "markdown",
   "metadata": {},
   "source": [
    "**Variável 6** \\\n",
    "Nome da Variável: OWNER \\\n",
    "Descrição: Proprietários dos imóveis"
   ]
  },
  {
   "cell_type": "code",
   "execution_count": 24,
   "metadata": {},
   "outputs": [],
   "source": [
    "# Contagem\n",
    "OWNER = df_cat['OWNER'].value_counts().rename_axis('Unique_values_OWNER').reset_index(name = 'Counts')"
   ]
  },
  {
   "cell_type": "code",
   "execution_count": 25,
   "metadata": {},
   "outputs": [
    {
     "data": {
      "text/html": [
       "<div>\n",
       "<style scoped>\n",
       "    .dataframe tbody tr th:only-of-type {\n",
       "        vertical-align: middle;\n",
       "    }\n",
       "\n",
       "    .dataframe tbody tr th {\n",
       "        vertical-align: top;\n",
       "    }\n",
       "\n",
       "    .dataframe thead th {\n",
       "        text-align: right;\n",
       "    }\n",
       "</style>\n",
       "<table border=\"1\" class=\"dataframe\">\n",
       "  <thead>\n",
       "    <tr style=\"text-align: right;\">\n",
       "      <th></th>\n",
       "      <th>Unique_values_OWNER</th>\n",
       "      <th>Counts</th>\n",
       "    </tr>\n",
       "  </thead>\n",
       "  <tbody>\n",
       "    <tr>\n",
       "      <th>0</th>\n",
       "      <td>PARKCHESTER PRESERVAT</td>\n",
       "      <td>6020</td>\n",
       "    </tr>\n",
       "    <tr>\n",
       "      <th>1</th>\n",
       "      <td>PARKS AND RECREATION</td>\n",
       "      <td>4255</td>\n",
       "    </tr>\n",
       "    <tr>\n",
       "      <th>2</th>\n",
       "      <td>DCAS</td>\n",
       "      <td>2169</td>\n",
       "    </tr>\n",
       "    <tr>\n",
       "      <th>3</th>\n",
       "      <td>HOUSING PRESERVATION</td>\n",
       "      <td>1904</td>\n",
       "    </tr>\n",
       "    <tr>\n",
       "      <th>4</th>\n",
       "      <td>CITY OF NEW YORK</td>\n",
       "      <td>1450</td>\n",
       "    </tr>\n",
       "  </tbody>\n",
       "</table>\n",
       "</div>"
      ],
      "text/plain": [
       "     Unique_values_OWNER  Counts\n",
       "0  PARKCHESTER PRESERVAT    6020\n",
       "1   PARKS AND RECREATION    4255\n",
       "2                   DCAS    2169\n",
       "3   HOUSING PRESERVATION    1904\n",
       "4       CITY OF NEW YORK    1450"
      ]
     },
     "execution_count": 25,
     "metadata": {},
     "output_type": "execute_result"
    }
   ],
   "source": [
    "OWNER.head()"
   ]
  },
  {
   "cell_type": "code",
   "execution_count": 26,
   "metadata": {},
   "outputs": [
    {
     "data": {
      "text/html": [
       "<div>\n",
       "<style scoped>\n",
       "    .dataframe tbody tr th:only-of-type {\n",
       "        vertical-align: middle;\n",
       "    }\n",
       "\n",
       "    .dataframe tbody tr th {\n",
       "        vertical-align: top;\n",
       "    }\n",
       "\n",
       "    .dataframe thead th {\n",
       "        text-align: right;\n",
       "    }\n",
       "</style>\n",
       "<table border=\"1\" class=\"dataframe\">\n",
       "  <thead>\n",
       "    <tr style=\"text-align: right;\">\n",
       "      <th></th>\n",
       "      <th>Unique_values_OWNER</th>\n",
       "      <th>Counts</th>\n",
       "    </tr>\n",
       "  </thead>\n",
       "  <tbody>\n",
       "    <tr>\n",
       "      <th>863341</th>\n",
       "      <td>ELARIO ALTERNO</td>\n",
       "      <td>1</td>\n",
       "    </tr>\n",
       "    <tr>\n",
       "      <th>863342</th>\n",
       "      <td>CHARLES,VIRGINIA</td>\n",
       "      <td>1</td>\n",
       "    </tr>\n",
       "    <tr>\n",
       "      <th>863343</th>\n",
       "      <td>HAYLES, HEATHER</td>\n",
       "      <td>1</td>\n",
       "    </tr>\n",
       "    <tr>\n",
       "      <th>863344</th>\n",
       "      <td>GLENDORA HARVEY</td>\n",
       "      <td>1</td>\n",
       "    </tr>\n",
       "    <tr>\n",
       "      <th>863345</th>\n",
       "      <td>EDWARD DONOHUE</td>\n",
       "      <td>1</td>\n",
       "    </tr>\n",
       "  </tbody>\n",
       "</table>\n",
       "</div>"
      ],
      "text/plain": [
       "       Unique_values_OWNER  Counts\n",
       "863341      ELARIO ALTERNO       1\n",
       "863342    CHARLES,VIRGINIA       1\n",
       "863343     HAYLES, HEATHER       1\n",
       "863344     GLENDORA HARVEY       1\n",
       "863345      EDWARD DONOHUE       1"
      ]
     },
     "execution_count": 26,
     "metadata": {},
     "output_type": "execute_result"
    }
   ],
   "source": [
    "OWNER.tail()"
   ]
  },
  {
   "cell_type": "markdown",
   "metadata": {},
   "source": [
    "**Variável 7** \\\n",
    "Nome da Variável: BLDGCL \\\n",
    "Descrição: Classe do imóvel"
   ]
  },
  {
   "cell_type": "code",
   "execution_count": 27,
   "metadata": {},
   "outputs": [],
   "source": [
    "# Contagem\n",
    "BLDGCL = df_cat['BLDGCL'].value_counts().rename_axis('Unique_values_BLDCGL').reset_index(name = 'Counts')"
   ]
  },
  {
   "cell_type": "code",
   "execution_count": 28,
   "metadata": {},
   "outputs": [
    {
     "data": {
      "text/html": [
       "<div>\n",
       "<style scoped>\n",
       "    .dataframe tbody tr th:only-of-type {\n",
       "        vertical-align: middle;\n",
       "    }\n",
       "\n",
       "    .dataframe tbody tr th {\n",
       "        vertical-align: top;\n",
       "    }\n",
       "\n",
       "    .dataframe thead th {\n",
       "        text-align: right;\n",
       "    }\n",
       "</style>\n",
       "<table border=\"1\" class=\"dataframe\">\n",
       "  <thead>\n",
       "    <tr style=\"text-align: right;\">\n",
       "      <th></th>\n",
       "      <th>Unique_values_BLDCGL</th>\n",
       "      <th>Counts</th>\n",
       "    </tr>\n",
       "  </thead>\n",
       "  <tbody>\n",
       "    <tr>\n",
       "      <th>195</th>\n",
       "      <td>I2</td>\n",
       "      <td>4</td>\n",
       "    </tr>\n",
       "    <tr>\n",
       "      <th>196</th>\n",
       "      <td>I3</td>\n",
       "      <td>4</td>\n",
       "    </tr>\n",
       "    <tr>\n",
       "      <th>197</th>\n",
       "      <td>H7</td>\n",
       "      <td>3</td>\n",
       "    </tr>\n",
       "    <tr>\n",
       "      <th>198</th>\n",
       "      <td>E6</td>\n",
       "      <td>1</td>\n",
       "    </tr>\n",
       "    <tr>\n",
       "      <th>199</th>\n",
       "      <td>Y5</td>\n",
       "      <td>1</td>\n",
       "    </tr>\n",
       "  </tbody>\n",
       "</table>\n",
       "</div>"
      ],
      "text/plain": [
       "    Unique_values_BLDCGL  Counts\n",
       "195                   I2       4\n",
       "196                   I3       4\n",
       "197                   H7       3\n",
       "198                   E6       1\n",
       "199                   Y5       1"
      ]
     },
     "execution_count": 28,
     "metadata": {},
     "output_type": "execute_result"
    }
   ],
   "source": [
    "BLDGCL.tail()"
   ]
  },
  {
   "cell_type": "code",
   "execution_count": 29,
   "metadata": {},
   "outputs": [
    {
     "data": {
      "text/html": [
       "<div>\n",
       "<style scoped>\n",
       "    .dataframe tbody tr th:only-of-type {\n",
       "        vertical-align: middle;\n",
       "    }\n",
       "\n",
       "    .dataframe tbody tr th {\n",
       "        vertical-align: top;\n",
       "    }\n",
       "\n",
       "    .dataframe thead th {\n",
       "        text-align: right;\n",
       "    }\n",
       "</style>\n",
       "<table border=\"1\" class=\"dataframe\">\n",
       "  <thead>\n",
       "    <tr style=\"text-align: right;\">\n",
       "      <th></th>\n",
       "      <th>Unique_values_BLDCGL</th>\n",
       "      <th>Counts</th>\n",
       "    </tr>\n",
       "  </thead>\n",
       "  <tbody>\n",
       "    <tr>\n",
       "      <th>0</th>\n",
       "      <td>R4</td>\n",
       "      <td>139879</td>\n",
       "    </tr>\n",
       "    <tr>\n",
       "      <th>1</th>\n",
       "      <td>A1</td>\n",
       "      <td>123369</td>\n",
       "    </tr>\n",
       "    <tr>\n",
       "      <th>2</th>\n",
       "      <td>A5</td>\n",
       "      <td>96984</td>\n",
       "    </tr>\n",
       "    <tr>\n",
       "      <th>3</th>\n",
       "      <td>B1</td>\n",
       "      <td>84208</td>\n",
       "    </tr>\n",
       "    <tr>\n",
       "      <th>4</th>\n",
       "      <td>B2</td>\n",
       "      <td>77598</td>\n",
       "    </tr>\n",
       "  </tbody>\n",
       "</table>\n",
       "</div>"
      ],
      "text/plain": [
       "  Unique_values_BLDCGL  Counts\n",
       "0                   R4  139879\n",
       "1                   A1  123369\n",
       "2                   A5   96984\n",
       "3                   B1   84208\n",
       "4                   B2   77598"
      ]
     },
     "execution_count": 29,
     "metadata": {},
     "output_type": "execute_result"
    }
   ],
   "source": [
    "BLDGCL.head()"
   ]
  },
  {
   "cell_type": "markdown",
   "metadata": {},
   "source": [
    "**Variável 8** \\\n",
    "Nome da Variável: TAXCLASS \\\n",
    "Descrição: Código de classe de imposto de propriedade"
   ]
  },
  {
   "cell_type": "code",
   "execution_count": 30,
   "metadata": {},
   "outputs": [
    {
     "data": {
      "text/plain": [
       "Text(0.5, 1.0, 'Número de Propriedades com Vários Tipos de Classe')"
      ]
     },
     "execution_count": 30,
     "metadata": {},
     "output_type": "execute_result"
    },
    {
     "data": {
      "image/png": "[encoded data removed]",
      "text/plain": [
       "<Figure size 1400x600 with 1 Axes>"
      ]
     },
     "metadata": {},
     "output_type": "display_data"
    }
   ],
   "source": [
    "# Visualização da variável 8\n",
    "sns.set_theme(style = 'darkgrid')\n",
    "plt.figure(figsize = (14, 6))\n",
    "fig3 = sns.countplot(x = 'TAXCLASS', data = dados, order = dados['TAXCLASS'].value_counts().index)\n",
    "fig3.set_yscale(\"log\")\n",
    "fig3.set_title('Número de Propriedades com Vários Tipos de Classe')"
   ]
  },
  {
   "cell_type": "markdown",
   "metadata": {},
   "source": [
    "**Variável 9** \\\n",
    "Nome da Variável: LTFRONT \\\n",
    "Descrição: Frente do lote em pés (feet)"
   ]
  },
  {
   "cell_type": "code",
   "execution_count": 31,
   "metadata": {},
   "outputs": [
    {
     "data": {
      "text/plain": [
       "count   1070994.00\n",
       "mean         36.64\n",
       "std          74.03\n",
       "min           0.00\n",
       "50%          25.00\n",
       "75%          40.00\n",
       "99.5%       375.00\n",
       "max        9999.00\n",
       "Name: LTFRONT, dtype: float64"
      ]
     },
     "execution_count": 31,
     "metadata": {},
     "output_type": "execute_result"
    }
   ],
   "source": [
    "# Divide em percentis\n",
    "dados['LTFRONT'].describe(percentiles = [0.5,0.75,0.995])"
   ]
  },
  {
   "cell_type": "code",
   "execution_count": 32,
   "metadata": {},
   "outputs": [],
   "source": [
    "# Filtra por valores iguais ou menores que 375\n",
    "tmp = dados[dados['LTFRONT'] <= 375]"
   ]
  },
  {
   "cell_type": "code",
   "execution_count": 33,
   "metadata": {},
   "outputs": [
    {
     "data": {
      "text/plain": [
       "Text(0.5, 1.0, 'Distribuição da Variável LTFRONT')"
      ]
     },
     "execution_count": 33,
     "metadata": {},
     "output_type": "execute_result"
    },
    {
     "data": {
      "image/png": "[encoded data removed]",
      "text/plain": [
       "<Figure size 1000x500 with 1 Axes>"
      ]
     },
     "metadata": {},
     "output_type": "display_data"
    }
   ],
   "source": [
    "# Visualização da variável 9\n",
    "sns.set_theme(style = 'whitegrid')\n",
    "plt.figure(figsize = (10, 5))\n",
    "fig4 = sns.distplot(tmp.LTFRONT, bins = 50)\n",
    "fig4.set_title('Distribuição da Variável LTFRONT')"
   ]
  },
  {
   "cell_type": "markdown",
   "metadata": {},
   "source": [
    "**Variável 10** \\\n",
    "Nome da Variável: LTDEPTH \\\n",
    "Descrição: Profundidade do lote em pés (feet)"
   ]
  },
  {
   "cell_type": "code",
   "execution_count": 34,
   "metadata": {},
   "outputs": [
    {
     "data": {
      "text/plain": [
       "count    1070994.00\n",
       "mean          88.86\n",
       "std           76.40\n",
       "min            0.00\n",
       "18%           49.00\n",
       "25%           80.00\n",
       "40%          100.00\n",
       "50%          100.00\n",
       "83%          101.00\n",
       "98%          200.00\n",
       "99.95%      1056.50\n",
       "max         9999.00\n",
       "Name: LTDEPTH, dtype: float64"
      ]
     },
     "execution_count": 34,
     "metadata": {},
     "output_type": "execute_result"
    }
   ],
   "source": [
    "# Divide em percentis\n",
    "dados['LTDEPTH'].describe(percentiles = [0.18,0.25,0.4,0.83,0.98,0.9995])"
   ]
  },
  {
   "cell_type": "code",
   "execution_count": 35,
   "metadata": {},
   "outputs": [],
   "source": [
    "# Filtra por valores iguais ou menores que 425\n",
    "tmp = dados[dados['LTDEPTH'] <= 425]"
   ]
  },
  {
   "cell_type": "code",
   "execution_count": 36,
   "metadata": {},
   "outputs": [
    {
     "data": {
      "text/plain": [
       "Text(0.5, 1.0, 'Distribuição da Variável LTDEPTH')"
      ]
     },
     "execution_count": 36,
     "metadata": {},
     "output_type": "execute_result"
    },
    {
     "data": {
      "image/png": "[encoded data removed]",
      "text/plain": [
       "<Figure size 1200x600 with 1 Axes>"
      ]
     },
     "metadata": {},
     "output_type": "display_data"
    }
   ],
   "source": [
    "# Visualização da variável 10\n",
    "sns.set_theme(style = 'whitegrid')\n",
    "plt.figure(figsize = (12, 6))\n",
    "fig5 = sns.distplot(tmp.LTDEPTH, bins = 50)\n",
    "fig5.set_yscale(\"log\")\n",
    "fig5.set_title('Distribuição da Variável LTDEPTH')"
   ]
  },
  {
   "cell_type": "markdown",
   "metadata": {},
   "source": [
    "**Variável 11** \\\n",
    "Nome da Variável: EXT \\\n",
    "Descrição: E- Extension, G- Garage, EG- Extension e Garage "
   ]
  },
  {
   "cell_type": "code",
   "execution_count": 37,
   "metadata": {},
   "outputs": [
    {
     "data": {
      "text/plain": [
       "Text(0.5, 1.0, 'Número de Propriedades com Vários Tipos de Extensões / Garagem')"
      ]
     },
     "execution_count": 37,
     "metadata": {},
     "output_type": "execute_result"
    },
    {
     "data": {
      "image/png": "[encoded data removed]",
      "text/plain": [
       "<Figure size 1200x600 with 1 Axes>"
      ]
     },
     "metadata": {},
     "output_type": "display_data"
    }
   ],
   "source": [
    "# Visualização da variável 11\n",
    "sns.set_theme(style = 'whitegrid')\n",
    "plt.figure(figsize = (12, 6))\n",
    "fig6 = sns.countplot(x = 'EXT', data = dados, order = dados['EXT'].value_counts().index)\n",
    "fig6.set_title('Número de Propriedades com Vários Tipos de Extensões / Garagem')"
   ]
  },
  {
   "cell_type": "markdown",
   "metadata": {},
   "source": [
    "**Variável 12**  \\\n",
    "Nome da Variável: STORIES \\\n",
    "Descrição: Número de andares do edifício"
   ]
  },
  {
   "cell_type": "code",
   "execution_count": 38,
   "metadata": {},
   "outputs": [
    {
     "data": {
      "text/plain": [
       "count   1014730.00\n",
       "mean          5.01\n",
       "std           8.37\n",
       "min           1.00\n",
       "50%           2.00\n",
       "75%           3.00\n",
       "99.5%        50.00\n",
       "max         119.00\n",
       "Name: STORIES, dtype: float64"
      ]
     },
     "execution_count": 38,
     "metadata": {},
     "output_type": "execute_result"
    }
   ],
   "source": [
    "# Divide em percentis\n",
    "dados['STORIES'].describe(percentiles = [0.5,0.75,0.995])"
   ]
  },
  {
   "cell_type": "code",
   "execution_count": 39,
   "metadata": {},
   "outputs": [],
   "source": [
    "# Filtra \n",
    "tmp = dados[dados['STORIES'] <= 50]"
   ]
  },
  {
   "cell_type": "code",
   "execution_count": 40,
   "metadata": {},
   "outputs": [
    {
     "ename": "TypeError",
     "evalue": "__init__() got an unexpected keyword argument 'basey'",
     "output_type": "error",
     "traceback": [
      "\u001b[0;31m---------------------------------------------------------------------------\u001b[0m",
      "\u001b[0;31mTypeError\u001b[0m                                 Traceback (most recent call last)",
      "\u001b[0;32m/var/folders/l1/1dxjhd1d47qbqjtdrr3ms2y80000gn/T/ipykernel_27890/2897682333.py\u001b[0m in \u001b[0;36m<module>\u001b[0;34m\u001b[0m\n\u001b[1;32m      3\u001b[0m \u001b[0mplt\u001b[0m\u001b[0;34m.\u001b[0m\u001b[0mfigure\u001b[0m\u001b[0;34m(\u001b[0m\u001b[0mfigsize\u001b[0m \u001b[0;34m=\u001b[0m \u001b[0;34m(\u001b[0m\u001b[0;36m12\u001b[0m\u001b[0;34m,\u001b[0m \u001b[0;36m6\u001b[0m\u001b[0;34m)\u001b[0m\u001b[0;34m)\u001b[0m\u001b[0;34m\u001b[0m\u001b[0;34m\u001b[0m\u001b[0m\n\u001b[1;32m      4\u001b[0m \u001b[0mfig7\u001b[0m \u001b[0;34m=\u001b[0m \u001b[0msns\u001b[0m\u001b[0;34m.\u001b[0m\u001b[0mdistplot\u001b[0m\u001b[0;34m(\u001b[0m\u001b[0mtmp\u001b[0m\u001b[0;34m[\u001b[0m\u001b[0;34m'STORIES'\u001b[0m\u001b[0;34m]\u001b[0m\u001b[0;34m,\u001b[0m \u001b[0mkde\u001b[0m \u001b[0;34m=\u001b[0m \u001b[0;32mFalse\u001b[0m\u001b[0;34m,\u001b[0m \u001b[0mbins\u001b[0m \u001b[0;34m=\u001b[0m \u001b[0;36m50\u001b[0m\u001b[0;34m)\u001b[0m\u001b[0;34m\u001b[0m\u001b[0;34m\u001b[0m\u001b[0m\n\u001b[0;32m----> 5\u001b[0;31m \u001b[0mfig7\u001b[0m\u001b[0;34m.\u001b[0m\u001b[0mset_yscale\u001b[0m\u001b[0;34m(\u001b[0m\u001b[0;34m'log'\u001b[0m\u001b[0;34m,\u001b[0m \u001b[0mbasey\u001b[0m \u001b[0;34m=\u001b[0m \u001b[0;36m2\u001b[0m\u001b[0;34m)\u001b[0m\u001b[0;34m\u001b[0m\u001b[0;34m\u001b[0m\u001b[0m\n\u001b[0m\u001b[1;32m      6\u001b[0m \u001b[0mfig7\u001b[0m\u001b[0;34m.\u001b[0m\u001b[0mset_title\u001b[0m\u001b[0;34m(\u001b[0m\u001b[0;34m'Distribuição de Andares das Propriedades'\u001b[0m\u001b[0;34m)\u001b[0m\u001b[0;34m\u001b[0m\u001b[0;34m\u001b[0m\u001b[0m\n",
      "\u001b[0;32m~/opt/anaconda3/lib/python3.9/site-packages/matplotlib/axes/_base.py\u001b[0m in \u001b[0;36mset_yscale\u001b[0;34m(self, value, **kwargs)\u001b[0m\n\u001b[1;32m   4115\u001b[0m         \u001b[0mg\u001b[0m \u001b[0;34m=\u001b[0m \u001b[0mself\u001b[0m\u001b[0;34m.\u001b[0m\u001b[0mget_shared_y_axes\u001b[0m\u001b[0;34m(\u001b[0m\u001b[0;34m)\u001b[0m\u001b[0;34m\u001b[0m\u001b[0;34m\u001b[0m\u001b[0m\n\u001b[1;32m   4116\u001b[0m         \u001b[0;32mfor\u001b[0m \u001b[0max\u001b[0m \u001b[0;32min\u001b[0m \u001b[0mg\u001b[0m\u001b[0;34m.\u001b[0m\u001b[0mget_siblings\u001b[0m\u001b[0;34m(\u001b[0m\u001b[0mself\u001b[0m\u001b[0;34m)\u001b[0m\u001b[0;34m:\u001b[0m\u001b[0;34m\u001b[0m\u001b[0;34m\u001b[0m\u001b[0m\n\u001b[0;32m-> 4117\u001b[0;31m             \u001b[0max\u001b[0m\u001b[0;34m.\u001b[0m\u001b[0myaxis\u001b[0m\u001b[0;34m.\u001b[0m\u001b[0m_set_scale\u001b[0m\u001b[0;34m(\u001b[0m\u001b[0mvalue\u001b[0m\u001b[0;34m,\u001b[0m \u001b[0;34m**\u001b[0m\u001b[0mkwargs\u001b[0m\u001b[0;34m)\u001b[0m\u001b[0;34m\u001b[0m\u001b[0;34m\u001b[0m\u001b[0m\n\u001b[0m\u001b[1;32m   4118\u001b[0m             \u001b[0max\u001b[0m\u001b[0;34m.\u001b[0m\u001b[0m_update_transScale\u001b[0m\u001b[0;34m(\u001b[0m\u001b[0;34m)\u001b[0m\u001b[0;34m\u001b[0m\u001b[0;34m\u001b[0m\u001b[0m\n\u001b[1;32m   4119\u001b[0m             \u001b[0max\u001b[0m\u001b[0;34m.\u001b[0m\u001b[0mstale\u001b[0m \u001b[0;34m=\u001b[0m \u001b[0;32mTrue\u001b[0m\u001b[0;34m\u001b[0m\u001b[0;34m\u001b[0m\u001b[0m\n",
      "\u001b[0;32m~/opt/anaconda3/lib/python3.9/site-packages/matplotlib/axis.py\u001b[0m in \u001b[0;36m_set_scale\u001b[0;34m(self, value, **kwargs)\u001b[0m\n\u001b[1;32m    759\u001b[0m     \u001b[0;32mdef\u001b[0m \u001b[0m_set_scale\u001b[0m\u001b[0;34m(\u001b[0m\u001b[0mself\u001b[0m\u001b[0;34m,\u001b[0m \u001b[0mvalue\u001b[0m\u001b[0;34m,\u001b[0m \u001b[0;34m**\u001b[0m\u001b[0mkwargs\u001b[0m\u001b[0;34m)\u001b[0m\u001b[0;34m:\u001b[0m\u001b[0;34m\u001b[0m\u001b[0;34m\u001b[0m\u001b[0m\n\u001b[1;32m    760\u001b[0m         \u001b[0;32mif\u001b[0m \u001b[0;32mnot\u001b[0m \u001b[0misinstance\u001b[0m\u001b[0;34m(\u001b[0m\u001b[0mvalue\u001b[0m\u001b[0;34m,\u001b[0m \u001b[0mmscale\u001b[0m\u001b[0;34m.\u001b[0m\u001b[0mScaleBase\u001b[0m\u001b[0;34m)\u001b[0m\u001b[0;34m:\u001b[0m\u001b[0;34m\u001b[0m\u001b[0;34m\u001b[0m\u001b[0m\n\u001b[0;32m--> 761\u001b[0;31m             \u001b[0mself\u001b[0m\u001b[0;34m.\u001b[0m\u001b[0m_scale\u001b[0m \u001b[0;34m=\u001b[0m \u001b[0mmscale\u001b[0m\u001b[0;34m.\u001b[0m\u001b[0mscale_factory\u001b[0m\u001b[0;34m(\u001b[0m\u001b[0mvalue\u001b[0m\u001b[0;34m,\u001b[0m \u001b[0mself\u001b[0m\u001b[0;34m,\u001b[0m \u001b[0;34m**\u001b[0m\u001b[0mkwargs\u001b[0m\u001b[0;34m)\u001b[0m\u001b[0;34m\u001b[0m\u001b[0;34m\u001b[0m\u001b[0m\n\u001b[0m\u001b[1;32m    762\u001b[0m         \u001b[0;32melse\u001b[0m\u001b[0;34m:\u001b[0m\u001b[0;34m\u001b[0m\u001b[0;34m\u001b[0m\u001b[0m\n\u001b[1;32m    763\u001b[0m             \u001b[0mself\u001b[0m\u001b[0;34m.\u001b[0m\u001b[0m_scale\u001b[0m \u001b[0;34m=\u001b[0m \u001b[0mvalue\u001b[0m\u001b[0;34m\u001b[0m\u001b[0;34m\u001b[0m\u001b[0m\n",
      "\u001b[0;32m~/opt/anaconda3/lib/python3.9/site-packages/matplotlib/scale.py\u001b[0m in \u001b[0;36mscale_factory\u001b[0;34m(scale, axis, **kwargs)\u001b[0m\n\u001b[1;32m    595\u001b[0m         \u001b[0mscale\u001b[0m \u001b[0;34m=\u001b[0m \u001b[0mscale\u001b[0m\u001b[0;34m.\u001b[0m\u001b[0mlower\u001b[0m\u001b[0;34m(\u001b[0m\u001b[0;34m)\u001b[0m\u001b[0;34m\u001b[0m\u001b[0;34m\u001b[0m\u001b[0m\n\u001b[1;32m    596\u001b[0m     \u001b[0mscale_cls\u001b[0m \u001b[0;34m=\u001b[0m \u001b[0m_api\u001b[0m\u001b[0;34m.\u001b[0m\u001b[0mcheck_getitem\u001b[0m\u001b[0;34m(\u001b[0m\u001b[0m_scale_mapping\u001b[0m\u001b[0;34m,\u001b[0m \u001b[0mscale\u001b[0m\u001b[0;34m=\u001b[0m\u001b[0mscale\u001b[0m\u001b[0;34m)\u001b[0m\u001b[0;34m\u001b[0m\u001b[0;34m\u001b[0m\u001b[0m\n\u001b[0;32m--> 597\u001b[0;31m     \u001b[0;32mreturn\u001b[0m \u001b[0mscale_cls\u001b[0m\u001b[0;34m(\u001b[0m\u001b[0maxis\u001b[0m\u001b[0;34m,\u001b[0m \u001b[0;34m**\u001b[0m\u001b[0mkwargs\u001b[0m\u001b[0;34m)\u001b[0m\u001b[0;34m\u001b[0m\u001b[0;34m\u001b[0m\u001b[0m\n\u001b[0m\u001b[1;32m    598\u001b[0m \u001b[0;34m\u001b[0m\u001b[0m\n\u001b[1;32m    599\u001b[0m \u001b[0;34m\u001b[0m\u001b[0m\n",
      "\u001b[0;31mTypeError\u001b[0m: __init__() got an unexpected keyword argument 'basey'"
     ]
    },
    {
     "data": {
      "image/png": "[encoded data removed]",
      "text/plain": [
       "<Figure size 1200x600 with 1 Axes>"
      ]
     },
     "metadata": {},
     "output_type": "display_data"
    }
   ],
   "source": [
    "# Visualização da variável 12\n",
    "sns.set_theme(style = 'whitegrid')\n",
    "plt.figure(figsize = (12, 6))\n",
    "fig7 = sns.distplot(tmp['STORIES'], kde = False, bins = 50)\n",
    "fig7.set_yscale('log', basey = 2)\n",
    "fig7.set_title('Distribuição de Andares das Propriedades')"
   ]
  },
  {
   "cell_type": "markdown",
   "metadata": {},
   "source": [
    "**Variável 13** \\\n",
    "Nome da Variável: FULLVAL \\\n",
    "Descrição: Valor de Mercado Total"
   ]
  },
  {
   "cell_type": "code",
   "execution_count": null,
   "metadata": {},
   "outputs": [],
   "source": [
    "# Divide em percentis\n",
    "dados['FULLVAL'].describe(percentiles = [0.5,0.75,0.95])"
   ]
  },
  {
   "cell_type": "code",
   "execution_count": null,
   "metadata": {},
   "outputs": [],
   "source": [
    "# Visualiza os dados\n",
    "dados['FULLVAL'].head()"
   ]
  },
  {
   "cell_type": "code",
   "execution_count": null,
   "metadata": {},
   "outputs": [],
   "source": [
    "# Filtra os dados para simplificar a visualização e evitar valores extremos\n",
    "tmp = dados[dados['FULLVAL'] <= 3000000]"
   ]
  },
  {
   "cell_type": "code",
   "execution_count": null,
   "metadata": {},
   "outputs": [],
   "source": [
    "# Visualização da variável 13\n",
    "dimensoes = (12, 8)\n",
    "fig, ax = pyplot.subplots(figsize = dimensoes)\n",
    "fig8 = sns.distplot(tmp.FULLVAL, kde = False, bins = 70)\n",
    "fig8.set_title('Distribuição do Valor de Mercado Total das Propriedades')"
   ]
  },
  {
   "cell_type": "markdown",
   "metadata": {},
   "source": [
    "**Variável 14** \\\n",
    "Nome da Variável: AVLAND \\\n",
    "Descrição: Valor de mercado do terreno"
   ]
  },
  {
   "cell_type": "code",
   "execution_count": null,
   "metadata": {},
   "outputs": [],
   "source": [
    "# Divide em percentis\n",
    "dados['AVLAND'].describe(percentiles = [0.5,0.75,0.95])"
   ]
  },
  {
   "cell_type": "code",
   "execution_count": null,
   "metadata": {},
   "outputs": [],
   "source": [
    "# Filtra os dados\n",
    "tmp = dados[dados['AVLAND'] <= 50000]"
   ]
  },
  {
   "cell_type": "code",
   "execution_count": null,
   "metadata": {},
   "outputs": [],
   "source": [
    "# Visualização da variável 14\n",
    "dimensoes = (12, 8)\n",
    "fig, ax = pyplot.subplots(figsize = dimensoes)\n",
    "fig9 = sns.distplot(tmp.AVLAND, kde = False, bins = 80)\n",
    "fig9.set_title('Distribuição do Valor de Mercado do Terreno das Propriedades')"
   ]
  },
  {
   "cell_type": "markdown",
   "metadata": {},
   "source": [
    "**Variável 15** \\\n",
    "Nome da Variável: EXLAND \\\n",
    "Descrição: Valor provisório do terreno com isenção temporária"
   ]
  },
  {
   "cell_type": "code",
   "execution_count": null,
   "metadata": {},
   "outputs": [],
   "source": [
    "# Divide em percentis\n",
    "dados['EXLAND'].describe(percentiles = [0.5,0.75,0.95])"
   ]
  },
  {
   "cell_type": "code",
   "execution_count": null,
   "metadata": {},
   "outputs": [],
   "source": [
    "# Filtro\n",
    "tmp = dados[dados['EXLAND'] <= 20000]"
   ]
  },
  {
   "cell_type": "code",
   "execution_count": null,
   "metadata": {},
   "outputs": [],
   "source": [
    "# Visualização da variável 15\n",
    "dimensoes = (14, 8)\n",
    "fig, ax = pyplot.subplots(figsize = dimensoes)\n",
    "fig11 = sns.distplot(tmp.EXLAND, kde = False, bins = 100)\n",
    "fig11.set_yscale('log', basey = 2)\n",
    "fig11.set_title('Valor Provisório do Terreno com Isenção Temporária')"
   ]
  },
  {
   "cell_type": "markdown",
   "metadata": {},
   "source": [
    "# Fim"
   ]
  }
 ],
 "metadata": {
  "kernelspec": {
   "display_name": "Python 3 (ipykernel)",
   "language": "python",
   "name": "python3"
  },
  "language_info": {
   "codemirror_mode": {
    "name": "ipython",
    "version": 3
   },
   "file_extension": ".py",
   "mimetype": "text/x-python",
   "name": "python",
   "nbconvert_exporter": "python",
   "pygments_lexer": "ipython3",
   "version": "3.9.13"
  },
  "toc": {
   "base_numbering": 1,
   "nav_menu": {},
   "number_sections": true,
   "sideBar": true,
   "skip_h1_title": false,
   "title_cell": "Table of Contents",
   "title_sidebar": "Contents",
   "toc_cell": false,
   "toc_position": {},
   "toc_section_display": true,
   "toc_window_display": false
  },
  "varInspector": {
   "cols": {
    "lenName": 16,
    "lenType": 16,
    "lenVar": 40
   },
   "kernels_config": {
    "python": {
     "delete_cmd_postfix": "",
     "delete_cmd_prefix": "del ",
     "library": "var_list.py",
     "varRefreshCmd": "print(var_dic_list())"
    },
    "r": {
     "delete_cmd_postfix": ") ",
     "delete_cmd_prefix": "rm(",
     "library": "var_list.r",
     "varRefreshCmd": "cat(var_dic_list()) "
    }
   },
   "types_to_exclude": [
    "module",
    "function",
    "builtin_function_or_method",
    "instance",
    "_Feature"
   ],
   "window_display": false
  }
 },
 "nbformat": 4,
 "nbformat_minor": 2
}

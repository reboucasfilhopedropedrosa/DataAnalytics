{
 "cells": [
  {
   "cell_type": "markdown",
   "metadata": {},
   "source": [
    "# <font color='blue'>Business Analytics</font>\n",
    "\n",
    "# <font color='blue'>Capítulo 10 - Financial Analytics</font>\n",
    "## <font color='blue'>Mini-Projeto 1</font>\n",
    "### <font color='blue'>AI Bot Trader - Robô Investidor Para Recomendação de Compra e Venda de Criptomoedas</font>"
   ]
  },
  {
   "cell_type": "code",
   "execution_count": 1,
   "metadata": {},
   "outputs": [
    {
     "name": "stdout",
     "output_type": "stream",
     "text": [
      "Versão da Linguagem Python Usada Neste Jupyter Notebook: 3.9.13\n"
     ]
    }
   ],
   "source": [
    "# Versão da Linguagem Python\n",
    "from platform import python_version\n",
    "print('Versão da Linguagem Python Usada Neste Jupyter Notebook:', python_version())"
   ]
  },
  {
   "cell_type": "markdown",
   "metadata": {},
   "source": [
    "![title](imagens/mini-projeto1.png)"
   ]
  },
  {
   "cell_type": "markdown",
   "metadata": {},
   "source": [
    "## Avisos Antes de Começar\n",
    "\n",
    "- 1- Nosso objetivo aqui é didático! Não use essa aplicação para fins comerciais sem antes realizar muitos testes.\n",
    "- 2- A execução do processo de treinamento pode ser bastante demorada dependendo do hardware do seu computador.\n",
    "- 3- Experimente a aplicação com outras técnicas.\n",
    "- 4- Este projeto é completo e funcional, mas uma versão mais avançada pode ser encontrada no curso de IA Para Finanças da Formação Engenheiro Blockchain.\n",
    "- 5- Se executar muitas vezes seguidas este projeto seu acesso à API pode ser bloqueado. Estamos fornecendo o arquivo de dados extraídos no dia da gravação das aulas."
   ]
  },
  {
   "cell_type": "markdown",
   "metadata": {},
   "source": [
    "## Definição do Problema e Fonte de Dados\n",
    "\n",
    "Leia o manual em pdf no Capítulo 10."
   ]
  },
  {
   "cell_type": "markdown",
   "metadata": {},
   "source": [
    "## Etapas do Projeto\n",
    "\n",
    "- Parte 1 - Extração dos Dados em Tempo Real\n",
    "- Parte 2 - Análise de Dados\n",
    "- Parte 3 - Construção do Modelo e Otimização Bayesiana\n",
    "- Parte 4 - Execução do AI Bot Trader\n",
    "- Parte 5 - Conclusão e Próximos Passos"
   ]
  },
  {
   "cell_type": "markdown",
   "metadata": {},
   "source": [
    "## Instalando e Carregando os Pacotes"
   ]
  },
  {
   "cell_type": "code",
   "execution_count": 2,
   "metadata": {},
   "outputs": [],
   "source": [
    "# Para atualizar um pacote, execute o comando abaixo no terminal ou prompt de comando:\n",
    "# pip install -U nome_pacote\n",
    "\n",
    "# Para instalar a versão exata de um pacote, execute o comando abaixo no terminal ou prompt de comando:\n",
    "# !pip install nome_pacote==versão_desejada\n",
    "\n",
    "# Depois de instalar ou atualizar o pacote, reinicie o jupyter notebook.\n",
    "\n",
    "# Instala o pacote watermark. \n",
    "# Esse pacote é usado para gravar as versões de outros pacotes usados neste jupyter notebook.\n",
    "!pip install -q -U watermark"
   ]
  },
  {
   "cell_type": "code",
   "execution_count": 3,
   "metadata": {},
   "outputs": [],
   "source": [
    "# CryptoCurrency eXchange Trading Library\n",
    "# https://pypi.org/project/ccxt/\n",
    "!pip install -q ccxt"
   ]
  },
  {
   "cell_type": "code",
   "execution_count": 4,
   "metadata": {},
   "outputs": [],
   "source": [
    "# https://pypi.org/project/bayesian-optimization/\n",
    "!pip install -q bayesian-optimization==1.2"
   ]
  },
  {
   "cell_type": "code",
   "execution_count": 5,
   "metadata": {
    "colab": {
     "base_uri": "https://localhost:8080/",
     "height": 384
    },
    "colab_type": "code",
    "id": "36R9niQzA9P4",
    "outputId": "9faa886e-5558-4669-a887-76e73d507d79"
   },
   "outputs": [],
   "source": [
    "# Imports\n",
    "import csv\n",
    "import ccxt\n",
    "import time\n",
    "import random\n",
    "import types\n",
    "import pkg_resources\n",
    "import numpy as np\n",
    "import pandas as pd\n",
    "import matplotlib.pyplot as plt\n",
    "import seaborn as sns\n",
    "from bayes_opt import BayesianOptimization\n",
    "from pprint import pprint\n",
    "from datetime import datetime\n",
    "sns.set()"
   ]
  },
  {
   "cell_type": "code",
   "execution_count": 6,
   "metadata": {},
   "outputs": [
    {
     "name": "stdout",
     "output_type": "stream",
     "text": [
      "Author: Versions\n",
      "\n",
      "numpy     : 1.21.5\n",
      "seaborn   : 0.11.2\n",
      "csv       : 1.0\n",
      "pandas    : 1.4.4\n",
      "matplotlib: 3.5.2\n",
      "ccxt      : 4.1.7\n",
      "\n"
     ]
    }
   ],
   "source": [
    "# Versões dos pacotes usados neste jupyter notebook\n",
    "%reload_ext watermark\n",
    "%watermark -a \"Versions\" --iversions"
   ]
  },
  {
   "cell_type": "markdown",
   "metadata": {},
   "source": [
    "## Parte 1 - Extração dos Dados em Tempo Real"
   ]
  },
  {
   "cell_type": "markdown",
   "metadata": {},
   "source": [
    "### Função de Gravação dos Dados"
   ]
  },
  {
   "cell_type": "code",
   "execution_count": 7,
   "metadata": {},
   "outputs": [],
   "source": [
    "# Função para salvar dados em formato csv\n",
    "def grava_csv(arquivo, dados):\n",
    "    \n",
    "    # Abre o arquivo para escrita\n",
    "    with open(arquivo, mode = 'w') as arquivo_saida:\n",
    "        \n",
    "        # Gera o cabeçalho\n",
    "        arquivo_saida.write(\"Date,Open,High,Low,Close,Adj Close,Volume\\n\")\n",
    "        \n",
    "        # Grava os dados\n",
    "        csv_writer = csv.writer(arquivo_saida, delimiter = ',', quotechar = '\"', quoting = csv.QUOTE_MINIMAL)\n",
    "        csv_writer.writerows(dados)"
   ]
  },
  {
   "cell_type": "markdown",
   "metadata": {},
   "source": [
    "### Função de Conexão à Operadora de Criptomoeda"
   ]
  },
  {
   "cell_type": "code",
   "execution_count": 8,
   "metadata": {},
   "outputs": [],
   "source": [
    "# Função para fazer conexão à exchange para extração dos dados\n",
    "# https://www.bitmex.com/\n",
    "# https://www.bitmex.com/app/apiOverview\n",
    "def conecta_exchange(exchange, max_retries, symbol, timeframe, since, limit):\n",
    "    \n",
    "    # Zera o número de tentativas\n",
    "    num_retries = 0\n",
    "    \n",
    "    # Tenta fazer a conexão\n",
    "    try:\n",
    "        num_retries += 1\n",
    "        ohlcv = exchange.fetch_ohlcv(symbol, timeframe, since)\n",
    "        return ohlcv\n",
    "    except Exception:\n",
    "        if num_retries > max_retries:\n",
    "            raise"
   ]
  },
  {
   "cell_type": "markdown",
   "metadata": {},
   "source": [
    "### Funções Para Extração dos Dados"
   ]
  },
  {
   "cell_type": "code",
   "execution_count": 9,
   "metadata": {},
   "outputs": [],
   "source": [
    "# Função para extração dos dados\n",
    "def extrai_dados(exchange, max_retries, symbol, timeframe, since, limit):\n",
    "    \n",
    "    # Timestamp\n",
    "    earliest_timestamp = exchange.milliseconds()\n",
    "    \n",
    "    # Duração da janela em segundos\n",
    "    timeframe_duration_in_seconds = exchange.parse_timeframe(timeframe)\n",
    "    \n",
    "    # Duração da janela em milisegundos\n",
    "    timeframe_duration_in_ms = timeframe_duration_in_seconds * 1000\n",
    "    \n",
    "    # Diferença de tempo\n",
    "    timedelta = limit * timeframe_duration_in_ms\n",
    "    \n",
    "    # Lista para os dados\n",
    "    all_ohlcv = []\n",
    "    \n",
    "    # Loop\n",
    "    while True:\n",
    "        \n",
    "        # Data de início para extração dos dados\n",
    "        fetch_since = earliest_timestamp - timedelta\n",
    "        \n",
    "        # Conecta na exchange e extrai os dados\n",
    "        ohlcv = conecta_exchange(exchange, max_retries, symbol, timeframe, fetch_since, limit)\n",
    "        \n",
    "        # Se alcançamos o limite, finaliza o loop\n",
    "        if ohlcv[0][0] >= earliest_timestamp:\n",
    "            break\n",
    "        \n",
    "        # Atualiza o tempo mais cedo\n",
    "        earliest_timestamp = ohlcv[0][0]\n",
    "        \n",
    "        # Atualiza os dados\n",
    "        all_ohlcv = ohlcv + all_ohlcv\n",
    "        \n",
    "        # Print do andamento\n",
    "        print(len(all_ohlcv), 'registros extraídos de', exchange.iso8601(all_ohlcv[0][0]), 'a', exchange.iso8601(all_ohlcv[-1][0]))\n",
    "        \n",
    "        if fetch_since < since:\n",
    "            break\n",
    "            \n",
    "    return all_ohlcv"
   ]
  },
  {
   "cell_type": "code",
   "execution_count": 10,
   "metadata": {},
   "outputs": [],
   "source": [
    "# Função para extrair os dados e salvar em formato csv\n",
    "def extrai_dados_para_csv(filename, exchange_id, max_retries, symbol, timeframe, since, limit):\n",
    "    \n",
    "    # Obtém o id da exchange com o pacote ccxt\n",
    "    exchange = getattr(ccxt, exchange_id)({'enableRateLimit': True,})\n",
    "    \n",
    "    # Checa a consistência \n",
    "    if isinstance(since, str):\n",
    "        since = exchange.parse8601(since)\n",
    "    \n",
    "    # Extrai o que está sendo comercializado\n",
    "    exchange.load_markets()\n",
    "    \n",
    "    # Extrai os dados\n",
    "    ohlcv = extrai_dados(exchange, max_retries, symbol, timeframe, since, limit)\n",
    "    \n",
    "    # Contador\n",
    "    key = 0\n",
    "    \n",
    "    # Loop\n",
    "    for item in ohlcv:\n",
    "        epoch = int(item[0]) / 1000\n",
    "        ohlcv[key][0] = datetime.utcfromtimestamp(epoch).strftime('%Y-%m-%d')\n",
    "        ohlcv[key][5] = int(item[5])\n",
    "        ohlcv[key].append(ohlcv[key][5])\n",
    "        ohlcv[key][5] = ohlcv[key][4]\n",
    "        key += 1\n",
    "    \n",
    "    # Comprimento de dados extraídos\n",
    "    ohlen = len(ohlcv)\n",
    "    \n",
    "    # Print do andamento\n",
    "    pprint(\"Número de Registros: \" + str(ohlen))\n",
    "    \n",
    "    # Vamos manter um limite para os dados\n",
    "    if ohlen > 399:\n",
    "        ohrem = ohlen - 399\n",
    "        pprint(\"Removendo: \" + str(ohrem))\n",
    "        ohlcv = ohlcv[ohrem:]\n",
    "        \n",
    "    # Grava os dados em csv\n",
    "    grava_csv(filename, ohlcv)\n",
    "    \n",
    "    # Print\n",
    "    print('Salvos', len(ohlcv), 'registros no arquivo', filename)"
   ]
  },
  {
   "cell_type": "markdown",
   "metadata": {},
   "source": [
    "### Parâmetros Para Extração dos Dados"
   ]
  },
  {
   "cell_type": "code",
   "execution_count": 11,
   "metadata": {
    "colab": {
     "base_uri": "https://localhost:8080/",
     "height": 156
    },
    "colab_type": "code",
    "id": "dDyeEv-7BENf",
    "outputId": "d61972ac-8487-4a0b-9645-77f290a4df37"
   },
   "outputs": [],
   "source": [
    "# Define os parâmetros de extração dos dados\n",
    "\n",
    "# Exchange: https://www.bitmex.com/app/apiOverview\n",
    "exchange = \"bitmex\"\n",
    "\n",
    "# Símbolo da criptomoeda\n",
    "simbolo = \"BTC/USD\"\n",
    "\n",
    "# Janela\n",
    "janela = \"1d\"\n",
    "\n",
    "# Data de início\n",
    "data_inicio = \"2018-01-01T00:00:00Z\"\n",
    "\n",
    "# Arquivo de saída\n",
    "outfile = \"dados/dataset.csv\""
   ]
  },
  {
   "cell_type": "markdown",
   "metadata": {},
   "source": [
    "### Extração dos Dados"
   ]
  },
  {
   "cell_type": "code",
   "execution_count": 12,
   "metadata": {},
   "outputs": [
    {
     "ename": "TypeError",
     "evalue": "'NoneType' object is not subscriptable",
     "output_type": "error",
     "traceback": [
      "\u001b[0;31m---------------------------------------------------------------------------\u001b[0m",
      "\u001b[0;31mTypeError\u001b[0m                                 Traceback (most recent call last)",
      "\u001b[0;32m/var/folders/l1/1dxjhd1d47qbqjtdrr3ms2y80000gn/T/ipykernel_27713/4232027784.py\u001b[0m in \u001b[0;36m<module>\u001b[0;34m\u001b[0m\n\u001b[1;32m      1\u001b[0m \u001b[0;31m# Executa a extração dos dados\u001b[0m\u001b[0;34m\u001b[0m\u001b[0;34m\u001b[0m\u001b[0m\n\u001b[0;32m----> 2\u001b[0;31m \u001b[0mextrai_dados_para_csv\u001b[0m\u001b[0;34m(\u001b[0m\u001b[0moutfile\u001b[0m\u001b[0;34m,\u001b[0m \u001b[0mexchange\u001b[0m\u001b[0;34m,\u001b[0m \u001b[0;36m3\u001b[0m\u001b[0;34m,\u001b[0m \u001b[0msimbolo\u001b[0m\u001b[0;34m,\u001b[0m \u001b[0mjanela\u001b[0m\u001b[0;34m,\u001b[0m \u001b[0mdata_inicio\u001b[0m\u001b[0;34m,\u001b[0m \u001b[0;36m100\u001b[0m\u001b[0;34m)\u001b[0m\u001b[0;34m\u001b[0m\u001b[0;34m\u001b[0m\u001b[0m\n\u001b[0m",
      "\u001b[0;32m/var/folders/l1/1dxjhd1d47qbqjtdrr3ms2y80000gn/T/ipykernel_27713/854899685.py\u001b[0m in \u001b[0;36mextrai_dados_para_csv\u001b[0;34m(filename, exchange_id, max_retries, symbol, timeframe, since, limit)\u001b[0m\n\u001b[1;32m     13\u001b[0m \u001b[0;34m\u001b[0m\u001b[0m\n\u001b[1;32m     14\u001b[0m     \u001b[0;31m# Extrai os dados\u001b[0m\u001b[0;34m\u001b[0m\u001b[0;34m\u001b[0m\u001b[0m\n\u001b[0;32m---> 15\u001b[0;31m     \u001b[0mohlcv\u001b[0m \u001b[0;34m=\u001b[0m \u001b[0mextrai_dados\u001b[0m\u001b[0;34m(\u001b[0m\u001b[0mexchange\u001b[0m\u001b[0;34m,\u001b[0m \u001b[0mmax_retries\u001b[0m\u001b[0;34m,\u001b[0m \u001b[0msymbol\u001b[0m\u001b[0;34m,\u001b[0m \u001b[0mtimeframe\u001b[0m\u001b[0;34m,\u001b[0m \u001b[0msince\u001b[0m\u001b[0;34m,\u001b[0m \u001b[0mlimit\u001b[0m\u001b[0;34m)\u001b[0m\u001b[0;34m\u001b[0m\u001b[0;34m\u001b[0m\u001b[0m\n\u001b[0m\u001b[1;32m     16\u001b[0m \u001b[0;34m\u001b[0m\u001b[0m\n\u001b[1;32m     17\u001b[0m     \u001b[0;31m# Contador\u001b[0m\u001b[0;34m\u001b[0m\u001b[0;34m\u001b[0m\u001b[0m\n",
      "\u001b[0;32m/var/folders/l1/1dxjhd1d47qbqjtdrr3ms2y80000gn/T/ipykernel_27713/291806936.py\u001b[0m in \u001b[0;36mextrai_dados\u001b[0;34m(exchange, max_retries, symbol, timeframe, since, limit)\u001b[0m\n\u001b[1;32m     27\u001b[0m \u001b[0;34m\u001b[0m\u001b[0m\n\u001b[1;32m     28\u001b[0m         \u001b[0;31m# Se alcançamos o limite, finaliza o loop\u001b[0m\u001b[0;34m\u001b[0m\u001b[0;34m\u001b[0m\u001b[0m\n\u001b[0;32m---> 29\u001b[0;31m         \u001b[0;32mif\u001b[0m \u001b[0mohlcv\u001b[0m\u001b[0;34m[\u001b[0m\u001b[0;36m0\u001b[0m\u001b[0;34m]\u001b[0m\u001b[0;34m[\u001b[0m\u001b[0;36m0\u001b[0m\u001b[0;34m]\u001b[0m \u001b[0;34m>=\u001b[0m \u001b[0mearliest_timestamp\u001b[0m\u001b[0;34m:\u001b[0m\u001b[0;34m\u001b[0m\u001b[0;34m\u001b[0m\u001b[0m\n\u001b[0m\u001b[1;32m     30\u001b[0m             \u001b[0;32mbreak\u001b[0m\u001b[0;34m\u001b[0m\u001b[0;34m\u001b[0m\u001b[0m\n\u001b[1;32m     31\u001b[0m \u001b[0;34m\u001b[0m\u001b[0m\n",
      "\u001b[0;31mTypeError\u001b[0m: 'NoneType' object is not subscriptable"
     ]
    }
   ],
   "source": [
    "# Executa a extração dos dados\n",
    "extrai_dados_para_csv(outfile, exchange, 3, simbolo, janela, data_inicio, 100)"
   ]
  },
  {
   "cell_type": "markdown",
   "metadata": {},
   "source": [
    "## Parte 2 - Análise de Dados"
   ]
  },
  {
   "cell_type": "markdown",
   "metadata": {
    "colab_type": "text",
    "id": "m2WFaYkRAfRz"
   },
   "source": [
    "### Carregando e Explorando o Arquivo de Dados"
   ]
  },
  {
   "cell_type": "code",
   "execution_count": null,
   "metadata": {
    "colab": {
     "base_uri": "https://localhost:8080/",
     "height": 206
    },
    "colab_type": "code",
    "id": "_tUBo4PAAfR0",
    "outputId": "3a99be3e-72dc-454c-885c-e45b4e2fb2eb"
   },
   "outputs": [],
   "source": [
    "# Carregando o arquivo do disco\n",
    "df = pd.read_csv(outfile)"
   ]
  },
  {
   "cell_type": "code",
   "execution_count": null,
   "metadata": {},
   "outputs": [],
   "source": [
    "# Dados\n",
    "df.head()"
   ]
  },
  {
   "cell_type": "code",
   "execution_count": null,
   "metadata": {},
   "outputs": [],
   "source": [
    "# Shape\n",
    "df.shape"
   ]
  },
  {
   "cell_type": "code",
   "execution_count": null,
   "metadata": {
    "colab": {},
    "colab_type": "code",
    "id": "JoCOm0W3AfR7"
   },
   "outputs": [],
   "source": [
    "# Dados de fechamento\n",
    "close = df.Close.values.tolist()"
   ]
  },
  {
   "cell_type": "code",
   "execution_count": null,
   "metadata": {},
   "outputs": [],
   "source": [
    "# Outros parâmetros para a versão base do modelo\n",
    "window_size = 30\n",
    "skip = 5\n",
    "l = len(close) - 1"
   ]
  },
  {
   "cell_type": "markdown",
   "metadata": {},
   "source": [
    "## Parte 3 - Construção do Modelo e Otimização Bayesiana\n",
    "\n",
    "A parte 3 considera que você tem algum conhecimento em Aprendizado Por Reforço. Esse conhecimento pode ser obtido no curso de Deep Learning II em nível avançado ou em nível básico no curso gratuito de Python Fundamentos aqui na DSA."
   ]
  },
  {
   "cell_type": "markdown",
   "metadata": {},
   "source": [
    "### Estratégia de Treinamento\n",
    "\n",
    "https://arxiv.org/abs/1712.06560\n",
    "\n",
    "https://openai.com/blog/evolution-strategies/\n",
    "\n",
    "https://gist.github.com/karpathy/77fbb6a8dac5395f1b73e7a89300318d\n",
    "\n",
    "http://www.deeplearningbook.com.br/"
   ]
  },
  {
   "cell_type": "code",
   "execution_count": null,
   "metadata": {
    "colab": {},
    "colab_type": "code",
    "id": "afnkRz8kAfSA"
   },
   "outputs": [],
   "source": [
    "# Classe para a estratégia de treinamento\n",
    "# Usamos Deep Evolution Strategy do OpenAI\n",
    "class PoliticaTrader:\n",
    "\n",
    "    # Inputs\n",
    "    inputs = None\n",
    "\n",
    "    # Construtor\n",
    "    def __init__(self, weights, reward_function, population_size, sigma, learning_rate):\n",
    "        \n",
    "        # Inicializa os atributos da classe\n",
    "        self.weights = weights\n",
    "        self.reward_function = reward_function\n",
    "        self.population_size = population_size\n",
    "        self.sigma = sigma\n",
    "        self.learning_rate = learning_rate\n",
    "\n",
    "    # Obtém o peso a partir da população\n",
    "    def get_weights_population(self, weights, population):\n",
    "        \n",
    "        # Lista para os pesos\n",
    "        weights_population = []\n",
    "        \n",
    "        # Loop pela população\n",
    "        for index, i in enumerate(population):\n",
    "            jittered = self.sigma * i\n",
    "            weights_population.append(weights[index] + jittered)\n",
    "        \n",
    "        return weights_population\n",
    "\n",
    "    # Obtém os pesos\n",
    "    def get_weights(self):\n",
    "        return self.weights\n",
    "\n",
    "    # Treinamento\n",
    "    def treinamento(self, epoch = 100, print_every = 1):\n",
    "        \n",
    "        # Time\n",
    "        lasttime = time.time()\n",
    "        \n",
    "        # Loop pelas épocas\n",
    "        for i in range(epoch):\n",
    "            \n",
    "            # Lista para a população\n",
    "            population = []\n",
    "            \n",
    "            # Recompensas\n",
    "            rewards = np.zeros(self.population_size)\n",
    "            \n",
    "            # Loop pelo population_size\n",
    "            for k in range(self.population_size):\n",
    "                \n",
    "                x = []\n",
    "                \n",
    "                # Loop\n",
    "                for w in self.weights:\n",
    "                    x.append(np.random.randn(*w.shape))\n",
    "                    \n",
    "                population.append(x)\n",
    "            \n",
    "            # Loop\n",
    "            for k in range(self.population_size):\n",
    "                \n",
    "                weights_population = self.get_weights_population(self.weights, population[k])\n",
    "                rewards[k] = self.reward_function(weights_population)\n",
    "            \n",
    "            # Recompensas\n",
    "            rewards = (rewards - np.mean(rewards)) / np.std(rewards)\n",
    "            \n",
    "            # Loop\n",
    "            for index, w in enumerate(self.weights):\n",
    "                A = np.array([p[index] for p in population])\n",
    "                \n",
    "                # Pesos da rede neural \n",
    "                self.weights[index] = (w + self.learning_rate / (self.population_size * self.sigma) * np.dot(A.T, rewards).T)\n",
    "            \n",
    "            if (i + 1) % print_every == 0:\n",
    "                print('Iteração %d. Recompensa: %f' % (i + 1, self.reward_function(self.weights)))\n",
    "        \n",
    "        print('Tempo Total de Treinamento:', time.time() - lasttime, 'segundos')"
   ]
  },
  {
   "cell_type": "markdown",
   "metadata": {},
   "source": [
    "### Arquitetura do Modelo de Rede Neural"
   ]
  },
  {
   "cell_type": "code",
   "execution_count": null,
   "metadata": {},
   "outputs": [],
   "source": [
    "# Classe do Modelo\n",
    "class Modelo:\n",
    "    \n",
    "    # Método construtor\n",
    "    def __init__(self, input_size, layer_size, output_size):\n",
    "        \n",
    "        self.weights = [np.random.randn(input_size, layer_size),\n",
    "                        np.random.randn(layer_size, output_size),\n",
    "                        np.random.randn(layer_size, 1),\n",
    "                        np.random.randn(1, layer_size),]\n",
    "\n",
    "    # Função para previsão\n",
    "    def predict(self, inputs):\n",
    "        \n",
    "        # Feed forward\n",
    "        feed = np.dot(inputs, self.weights[0]) + self.weights[-1]\n",
    "        \n",
    "        # Decisão de compra (previsão)\n",
    "        decision = np.dot(feed, self.weights[1])\n",
    "        \n",
    "        # Compra (decisão)\n",
    "        buy = np.dot(feed, self.weights[2])\n",
    "        \n",
    "        return decision, buy\n",
    "\n",
    "    def get_weights(self):\n",
    "        return self.weights\n",
    "\n",
    "    def set_weights(self, weights):\n",
    "        self.weights = weights"
   ]
  },
  {
   "cell_type": "markdown",
   "metadata": {},
   "source": [
    "### Configuração do AI Bot Trader"
   ]
  },
  {
   "cell_type": "code",
   "execution_count": null,
   "metadata": {},
   "outputs": [],
   "source": [
    "# Função para obter o estado dos dados\n",
    "def get_state(data, t, n):\n",
    "    d = t - n + 1\n",
    "    block = data[d : t + 1] if d >= 0 else -d * [data[0]] + data[0 : t + 1]\n",
    "    res = []\n",
    "    for i in range(n - 1):\n",
    "        res.append(block[i + 1] - block[i])\n",
    "    return np.array([res])"
   ]
  },
  {
   "cell_type": "code",
   "execution_count": null,
   "metadata": {
    "colab": {},
    "colab_type": "code",
    "id": "teqz-mc1AfSF"
   },
   "outputs": [],
   "source": [
    "# Classe para o agente inteligente (Trader)\n",
    "class Trader:\n",
    "    \n",
    "    # Método construtor\n",
    "    def __init__(self, population_size, sigma, learning_rate, model, money, max_buy, max_sell, skip, window_size,):\n",
    "        \n",
    "        # Inicializa os atributos\n",
    "        self.window_size = window_size\n",
    "        self.skip = skip\n",
    "        self.POPULATION_SIZE = population_size\n",
    "        self.SIGMA = sigma\n",
    "        self.LEARNING_RATE = learning_rate\n",
    "        self.model = model\n",
    "        self.initial_money = money\n",
    "        self.max_buy = max_buy\n",
    "        self.max_sell = max_sell\n",
    "        self.es = PoliticaTrader(self.model.get_weights(),\n",
    "                                 self.get_reward,\n",
    "                                 self.POPULATION_SIZE,\n",
    "                                 self.SIGMA,\n",
    "                                 self.LEARNING_RATE,)\n",
    "\n",
    "    # Método de ação\n",
    "    def agir(self, sequence):\n",
    "        decision, buy = self.model.predict(np.array(sequence))\n",
    "        return np.argmax(decision[0]), int(buy[0])\n",
    "\n",
    "    # Método para obter recompensa\n",
    "    def get_reward(self, weights):\n",
    "        \n",
    "        # Valor inicial investido\n",
    "        initial_money = self.initial_money\n",
    "        starting_money = initial_money\n",
    "        \n",
    "        # Pesos\n",
    "        self.model.weights = weights\n",
    "        \n",
    "        # Estado\n",
    "        state = get_state(close, 0, self.window_size + 1)\n",
    "        \n",
    "        # Objetos de controle\n",
    "        inventory = []\n",
    "        quantity = 0\n",
    "        \n",
    "        # Loop\n",
    "        for t in range(0, l, self.skip):\n",
    "            \n",
    "            # Ação e compra/venda\n",
    "            action, buy = self.agir(state)\n",
    "            \n",
    "            # Próximo estado\n",
    "            next_state = get_state(close, t + 1, self.window_size + 1)\n",
    "            \n",
    "            # Verifica ação e valor inicial investido\n",
    "            if action == 1 and initial_money >= close[t]:\n",
    "                if buy < 0:\n",
    "                    buy = 1\n",
    "                if buy > self.max_buy:\n",
    "                    buy_units = self.max_buy\n",
    "                else:\n",
    "                    buy_units = buy\n",
    "                    \n",
    "                total_buy = buy_units * close[t]\n",
    "                initial_money -= total_buy\n",
    "                inventory.append(total_buy)\n",
    "                quantity += buy_units\n",
    "            \n",
    "            elif action == 2 and len(inventory) > 0:\n",
    "                if quantity > self.max_sell:\n",
    "                    sell_units = self.max_sell\n",
    "                else:\n",
    "                    sell_units = quantity\n",
    "                    \n",
    "                quantity -= sell_units\n",
    "                total_sell = sell_units * close[t]\n",
    "                initial_money += total_sell\n",
    "\n",
    "            # Próximo estado\n",
    "            state = next_state\n",
    "        \n",
    "        return ((initial_money - starting_money) / starting_money) * 100\n",
    "\n",
    "    # Treinamento do Trader\n",
    "    def fit(self, iterations, checkpoint):\n",
    "        self.es.treinamento(iterations, print_every = checkpoint)\n",
    "\n",
    "    # Método para recomendação\n",
    "    def investir(self):\n",
    "        \n",
    "        # Valor inicial\n",
    "        initial_money = self.initial_money\n",
    "        starting_money = initial_money\n",
    "        \n",
    "        # Estado\n",
    "        state = get_state(close, 0, self.window_size + 1)\n",
    "        \n",
    "        # Listas de controle        \n",
    "        states_sell = []\n",
    "        states_buy = []\n",
    "        inventory = []\n",
    "        quantity = 0\n",
    "        \n",
    "        # Loop\n",
    "        for t in range(0, l, self.skip):\n",
    "            \n",
    "            # Ação e compra\n",
    "            action, buy = self.agir(state)\n",
    "            \n",
    "            # Próximo estado\n",
    "            next_state = get_state(close, t + 1, self.window_size + 1)\n",
    "            \n",
    "            # Verifica ação e valor inicial investido\n",
    "            if action == 1 and initial_money >= close[t]:\n",
    "                if buy < 0:\n",
    "                    buy = 1\n",
    "                if buy > self.max_buy:\n",
    "                    buy_units = self.max_buy\n",
    "                else:\n",
    "                    buy_units = buy\n",
    "                \n",
    "                total_buy = buy_units * close[t]\n",
    "                initial_money -= total_buy\n",
    "                inventory.append(total_buy)\n",
    "                quantity += buy_units\n",
    "                states_buy.append(t)\n",
    "                \n",
    "                print('Dia %d: comprar %d unidades ao preço de %f, saldo total %f' % (t, buy_units, total_buy, initial_money))\n",
    "            \n",
    "            elif action == 2 and len(inventory) > 0:\n",
    "                bought_price = inventory.pop(0)\n",
    "                if quantity > self.max_sell:\n",
    "                    sell_units = self.max_sell\n",
    "                else:\n",
    "                    sell_units = quantity\n",
    "                if sell_units < 1:\n",
    "                    continue\n",
    "                    \n",
    "                quantity -= sell_units\n",
    "                total_sell = sell_units * close[t]\n",
    "                initial_money += total_sell\n",
    "                states_sell.append(t)\n",
    "                \n",
    "                try:\n",
    "                    invest = ((total_sell - bought_price) / bought_price) * 100\n",
    "                except:\n",
    "                    invest = 0\n",
    "                \n",
    "                print('Dia %d, vender %d unidades ao preço de %f, investimento %f %%, saldo total %f,' % (t, sell_units, total_sell, invest, initial_money))\n",
    "            \n",
    "            # Próximo estado\n",
    "            state = next_state\n",
    "\n",
    "        # Investimento\n",
    "        invest = ((initial_money - starting_money) / starting_money) * 100\n",
    "        \n",
    "        print('\\nGanho Total %f, Valor Total Investido %f' % (initial_money - starting_money, invest))\n",
    "        \n",
    "        plt.figure(figsize = (20, 10))\n",
    "        plt.plot(close, label = 'Valor Real de Fechamento', c = 'g')\n",
    "        plt.plot(close, 'X', label = 'Previsão de Compra', markevery = states_buy, c = 'b')\n",
    "        plt.plot(close, 'o', label = 'Previsão de Venda', markevery = states_sell, c = 'r')\n",
    "        plt.legend()\n",
    "        plt.show()"
   ]
  },
  {
   "cell_type": "markdown",
   "metadata": {},
   "source": [
    "### Funções Para Buscar o Melhor Trader"
   ]
  },
  {
   "cell_type": "code",
   "execution_count": null,
   "metadata": {
    "colab": {},
    "colab_type": "code",
    "id": "kTkhMFr3AfSP"
   },
   "outputs": [],
   "source": [
    "# Função para encontrar o melhor trader\n",
    "def melhor_trader(window_size, skip, population_size, sigma, learning_rate, size_network):\n",
    "    \n",
    "    # Cria o modelo\n",
    "    model = Modelo(window_size, size_network, 3)\n",
    "    \n",
    "    # Cria o trader\n",
    "    trader = Trader(population_size, sigma, learning_rate, model, 10000, 5, 5, skip, window_size,)\n",
    "    \n",
    "    # Treinamento\n",
    "    try:\n",
    "        trader.fit(100, 1000)\n",
    "        return trader.es.reward_function(trader.es.weights)\n",
    "    except:\n",
    "        return 0"
   ]
  },
  {
   "cell_type": "code",
   "execution_count": null,
   "metadata": {
    "colab": {},
    "colab_type": "code",
    "id": "mjQuoGZ7AfSU"
   },
   "outputs": [],
   "source": [
    "# Função para encontrar o melhor trader de acordo com os hiperparâmetros\n",
    "def busca_melhor_trader(window_size, skip, population_size, sigma, learning_rate, size_network):\n",
    "    \n",
    "    # Variável global\n",
    "    global accbest\n",
    "    \n",
    "    # Hiperparâmetros\n",
    "    param = {'window_size': int(np.around(window_size)),\n",
    "             'skip': int(np.around(skip)),\n",
    "             'population_size': int(np.around(population_size)),\n",
    "             'sigma': max(min(sigma, 1), 0.0001),\n",
    "             'learning_rate': max(min(learning_rate, 0.5), 0.000001),\n",
    "             'size_network': int(np.around(size_network)),}\n",
    "    \n",
    "    print('\\nBuscando Parâmetros %s' % (param))\n",
    "    \n",
    "    # Investimento feito pelo melhor trader\n",
    "    investment = melhor_trader(**param)\n",
    "    \n",
    "    print('Após 100 iterações o investimento foi de %f' % (investment))\n",
    "        \n",
    "    return investment"
   ]
  },
  {
   "cell_type": "markdown",
   "metadata": {},
   "source": [
    "### Otimização Bayesiana Para os Hiperparâmetros do Modelo"
   ]
  },
  {
   "cell_type": "code",
   "execution_count": null,
   "metadata": {
    "colab": {
     "base_uri": "https://localhost:8080/",
     "height": 7175
    },
    "colab_type": "code",
    "id": "50gH-DOiAfSY",
    "outputId": "47ef00b4-9f69-4861-e4bc-721ea85c9aac"
   },
   "outputs": [],
   "source": [
    "# Modelo para otimização bayesiana de hiperparâmetros\n",
    "otimizacao_bayesiana = BayesianOptimization(busca_melhor_trader, {'window_size': (2, 50),\n",
    "                                                                  'skip': (1, 15),\n",
    "                                                                  'population_size': (1, 50),\n",
    "                                                                  'sigma': (0.01, 0.99),\n",
    "                                                                  'learning_rate': (0.000001, 0.49),\n",
    "                                                                  'size_network': (10, 1000),},)"
   ]
  },
  {
   "cell_type": "code",
   "execution_count": null,
   "metadata": {},
   "outputs": [],
   "source": [
    "%%time\n",
    "otimizacao_bayesiana.maximize(init_points = 30, n_iter = 50, acq = 'ei', xi = 0.0)"
   ]
  },
  {
   "cell_type": "code",
   "execution_count": null,
   "metadata": {},
   "outputs": [],
   "source": [
    "type(otimizacao_bayesiana)"
   ]
  },
  {
   "cell_type": "code",
   "execution_count": null,
   "metadata": {},
   "outputs": [],
   "source": [
    "# Visualiza o resultado\n",
    "otimizacao_bayesiana.res"
   ]
  },
  {
   "cell_type": "markdown",
   "metadata": {},
   "source": [
    "Vamos obter o maior valor para cada hiperparâmetro."
   ]
  },
  {
   "cell_type": "code",
   "execution_count": null,
   "metadata": {},
   "outputs": [],
   "source": [
    "max([dic['target'] for dic in otimizacao_bayesiana.res])"
   ]
  },
  {
   "cell_type": "code",
   "execution_count": null,
   "metadata": {},
   "outputs": [],
   "source": [
    "[dic['params'] for dic in otimizacao_bayesiana.res]"
   ]
  },
  {
   "cell_type": "code",
   "execution_count": null,
   "metadata": {},
   "outputs": [],
   "source": [
    "max([d['learning_rate'] for d in [dic['params'] for dic in otimizacao_bayesiana.res]])"
   ]
  },
  {
   "cell_type": "code",
   "execution_count": null,
   "metadata": {},
   "outputs": [],
   "source": [
    "max([d['population_size'] for d in [dic['params'] for dic in otimizacao_bayesiana.res]])"
   ]
  },
  {
   "cell_type": "code",
   "execution_count": null,
   "metadata": {},
   "outputs": [],
   "source": [
    "max([d['sigma'] for d in [dic['params'] for dic in otimizacao_bayesiana.res]])"
   ]
  },
  {
   "cell_type": "code",
   "execution_count": null,
   "metadata": {},
   "outputs": [],
   "source": [
    "max([d['size_network'] for d in [dic['params'] for dic in otimizacao_bayesiana.res]])"
   ]
  },
  {
   "cell_type": "code",
   "execution_count": null,
   "metadata": {},
   "outputs": [],
   "source": [
    "max([d['skip'] for d in [dic['params'] for dic in otimizacao_bayesiana.res]])"
   ]
  },
  {
   "cell_type": "code",
   "execution_count": null,
   "metadata": {},
   "outputs": [],
   "source": [
    "max([d['window_size'] for d in [dic['params'] for dic in otimizacao_bayesiana.res]])"
   ]
  },
  {
   "cell_type": "markdown",
   "metadata": {},
   "source": [
    "## Parte 4 - Execução do AI Bot Trader"
   ]
  },
  {
   "cell_type": "markdown",
   "metadata": {
    "colab_type": "text",
    "id": "JFxbAeQNAfSk"
   },
   "source": [
    "### Execução do AI Bot Trader - Modelo Base"
   ]
  },
  {
   "cell_type": "code",
   "execution_count": null,
   "metadata": {
    "colab": {
     "base_uri": "https://localhost:8080/",
     "height": 52
    },
    "colab_type": "code",
    "id": "6WCZieKUAfSl",
    "outputId": "f663767b-72a9-4aec-8d09-55d42771ad48"
   },
   "outputs": [],
   "source": [
    "%%time\n",
    "melhor_trader(window_size = 30, \n",
    "              skip = 1, \n",
    "              population_size = 15, \n",
    "              sigma = 0.1, \n",
    "              learning_rate = 0.03, \n",
    "              size_network = 500)"
   ]
  },
  {
   "cell_type": "code",
   "execution_count": null,
   "metadata": {
    "colab": {
     "base_uri": "https://localhost:8080/",
     "height": 4178
    },
    "colab_type": "code",
    "id": "M8eucRXnAfS0",
    "outputId": "e54bbd3a-26ce-4e87-ce3e-5a98a0b83ac9"
   },
   "outputs": [],
   "source": [
    "# Cria o modelo\n",
    "modelo_base = Modelo(input_size = 30, layer_size = 500, output_size = 3)"
   ]
  },
  {
   "cell_type": "code",
   "execution_count": null,
   "metadata": {},
   "outputs": [],
   "source": [
    "# Cria o trader base\n",
    "trader_base = Trader(population_size = 15, \n",
    "                     sigma = 0.1, \n",
    "                     learning_rate = 0.03, \n",
    "                     model = modelo_base, \n",
    "                     money = 10000, \n",
    "                     max_buy = 5, \n",
    "                     max_sell = 5, \n",
    "                     skip = 1, \n",
    "                     window_size = 30)"
   ]
  },
  {
   "cell_type": "markdown",
   "metadata": {},
   "source": [
    "Aqui treinamos o trader!"
   ]
  },
  {
   "cell_type": "code",
   "execution_count": null,
   "metadata": {},
   "outputs": [],
   "source": [
    "%%time\n",
    "trader_base.fit(500, 100)"
   ]
  },
  {
   "cell_type": "code",
   "execution_count": null,
   "metadata": {},
   "outputs": [],
   "source": [
    "# Recomendações\n",
    "trader_base.investir()"
   ]
  },
  {
   "cell_type": "markdown",
   "metadata": {
    "colab_type": "text",
    "id": "UoW4QTGmAfSs"
   },
   "source": [
    "### Execução do AI Bot Trader - Modelo Otimizado"
   ]
  },
  {
   "cell_type": "code",
   "execution_count": null,
   "metadata": {
    "colab": {
     "base_uri": "https://localhost:8080/",
     "height": 52
    },
    "colab_type": "code",
    "id": "bom3nsH5AfSt",
    "outputId": "02b280d8-2bce-452b-e23a-432338e8da77"
   },
   "outputs": [],
   "source": [
    "%%time\n",
    "melhor_trader(window_size = int(np.around(max([d['window_size'] for d in [dic['params'] for dic in otimizacao_bayesiana.res]]))), \n",
    "              skip = int(np.around(max([d['skip'] for d in [dic['params'] for dic in otimizacao_bayesiana.res]]))), \n",
    "              population_size = int(max([d['population_size'] for d in [dic['params'] for dic in otimizacao_bayesiana.res]])), \n",
    "              sigma = max([d['sigma'] for d in [dic['params'] for dic in otimizacao_bayesiana.res]]), \n",
    "              learning_rate = max([d['learning_rate'] for d in [dic['params'] for dic in otimizacao_bayesiana.res]]), \n",
    "              size_network = int(np.around(max([d['size_network'] for d in [dic['params'] for dic in otimizacao_bayesiana.res]]))))"
   ]
  },
  {
   "cell_type": "code",
   "execution_count": null,
   "metadata": {
    "colab": {
     "base_uri": "https://localhost:8080/",
     "height": 2528
    },
    "colab_type": "code",
    "id": "pTBxe6V2AfS9",
    "outputId": "dbb0317f-25dc-4a7d-8872-720736b3b12e"
   },
   "outputs": [],
   "source": [
    "%%time\n",
    "modelo_otim = Modelo(input_size = int(np.around(max([d['window_size'] for d in [dic['params'] for dic in otimizacao_bayesiana.res]]))), \n",
    "                     layer_size = int(np.around(max([d['size_network'] for d in [dic['params'] for dic in otimizacao_bayesiana.res]]))), \n",
    "                     output_size = 3)"
   ]
  },
  {
   "cell_type": "code",
   "execution_count": null,
   "metadata": {},
   "outputs": [],
   "source": [
    "# Cria o trader com otimização\n",
    "trader_otim = Trader(population_size = int(np.around(max([d['population_size'] for d in [dic['params'] for dic in otimizacao_bayesiana.res]]))), \n",
    "                     sigma = max([d['sigma'] for d in [dic['params'] for dic in otimizacao_bayesiana.res]]), \n",
    "                     learning_rate = max([d['learning_rate'] for d in [dic['params'] for dic in otimizacao_bayesiana.res]]), \n",
    "                     model = modelo_otim, \n",
    "                     money = 10000, \n",
    "                     max_buy = 5, \n",
    "                     max_sell = 5, \n",
    "                     skip = int(np.around(max([d['skip'] for d in [dic['params'] for dic in otimizacao_bayesiana.res]]))), \n",
    "                     window_size = int(np.around(max([d['window_size'] for d in [dic['params'] for dic in otimizacao_bayesiana.res]]))))"
   ]
  },
  {
   "cell_type": "markdown",
   "metadata": {},
   "source": [
    "Aqui treinamos o trader!"
   ]
  },
  {
   "cell_type": "code",
   "execution_count": null,
   "metadata": {},
   "outputs": [],
   "source": [
    "%%time\n",
    "trader_otim.fit(500, 100)"
   ]
  },
  {
   "cell_type": "code",
   "execution_count": null,
   "metadata": {},
   "outputs": [],
   "source": [
    "%%time\n",
    "trader_otim.investir()"
   ]
  },
  {
   "cell_type": "markdown",
   "metadata": {},
   "source": [
    "## Parte 5 - Conclusão, Lições Aprendidas e Próximos Passos"
   ]
  },
  {
   "cell_type": "markdown",
   "metadata": {},
   "source": [
    "- Um projeto como esse é complexo e requer conhecimento avançado.\n",
    "- Nosso Trader demonstrou bons resultados com baixo volume de dados. Teríamos que validar isso com volumes de dados maiores.\n",
    "- Diferentes políticas podem ser usadas para treinar o Trader e essa é uma decisão humana.\n",
    "- Diferentes arquiteturas podem ser usadas no modelo e essa é uma decisão humana.\n",
    "- Todas as técnicas usadas neste projeto podem ser refinadas com procedimentos mais avançados, tornando o AI Bot Trader ainda mais preciso."
   ]
  },
  {
   "cell_type": "markdown",
   "metadata": {
    "colab": {},
    "colab_type": "code",
    "id": "qftmx-0LAfTE"
   },
   "source": [
    "# Fim"
   ]
  }
 ],
 "metadata": {
  "colab": {
   "collapsed_sections": [],
   "include_colab_link": true,
   "name": "bayesian-evolution-agent.ipynb",
   "provenance": [],
   "version": "0.3.2"
  },
  "kernelspec": {
   "display_name": "Python 3 (ipykernel)",
   "language": "python",
   "name": "python3"
  },
  "language_info": {
   "codemirror_mode": {
    "name": "ipython",
    "version": 3
   },
   "file_extension": ".py",
   "mimetype": "text/x-python",
   "name": "python",
   "nbconvert_exporter": "python",
   "pygments_lexer": "ipython3",
   "version": "3.9.13"
  }
 },
 "nbformat": 4,
 "nbformat_minor": 1
}
